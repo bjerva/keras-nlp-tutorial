{
 "cells": [
  {
   "cell_type": "markdown",
   "metadata": {
    "nbpresent": {
     "id": "49538487-3502-4153-a997-f3b1f1b26334"
    }
   },
   "source": [
    "# Deep Learning for NLP with Keras\n",
    "\n",
    "\n",
    "This notebook is meant to give you the tools to get started with using neural networks.\n",
    "We'll be using the toolkit Keras, which is a very up-to-date and sufficiently high-level Python package for quick development of Deep Learning systems.\n",
    "\n",
    "In this workshop, we'll be focussing on approaches relevant to NLP.\n",
    "We'll cover both a simple classification setting, as well as a sequence prediction setting.\n"
   ]
  },
  {
   "cell_type": "markdown",
   "metadata": {
    "nbpresent": {
     "id": "767d549c-69f8-4c94-8e9e-a5229de9cf8f"
    }
   },
   "source": [
    "<img src=\"files/flowchart.png\">"
   ]
  },
  {
   "cell_type": "markdown",
   "metadata": {},
   "source": [
    "<img src=\"files/neural_network_1.tiff\">"
   ]
  },
  {
   "cell_type": "markdown",
   "metadata": {},
   "source": [
    "<img src=\"files/neural_network_multiclass.tiff\">"
   ]
  },
  {
   "cell_type": "markdown",
   "metadata": {},
   "source": [
    "<img src=\"files/multiclass_onehot.tiff\">"
   ]
  },
  {
   "cell_type": "code",
   "execution_count": 110,
   "metadata": {
    "collapsed": false,
    "nbpresent": {
     "id": "3012f0d5-b137-4e58-9196-74fd557ebabc"
    }
   },
   "outputs": [
    {
     "name": "stdout",
     "output_type": "stream",
     "text": [
      "Success!\n"
     ]
    }
   ],
   "source": [
    "# Begin by trying to import the necessary packages (click this cell, and then Shift+Enter)\n",
    "\n",
    "%matplotlib inline\n",
    "\n",
    "import matplotlib\n",
    "import matplotlib.pyplot as plt\n",
    "\n",
    "import numpy as np\n",
    "np.random.seed(1337)  # Freeze seeds for reproducibility\n",
    "import keras\n",
    "#from keras.utils.visualize_util import plot as keras_plot\n",
    "from IPython.display import SVG\n",
    "from keras.utils.visualize_util import model_to_dot\n",
    "\n",
    "from codecs import open\n",
    "from collections import defaultdict\n",
    "\n",
    "# Prepare word/tag to ID conversions\n",
    "fillers = ('<w>', '</w>', '<PAD>', '_UNK')\n",
    "word_to_id = defaultdict(lambda: len(word_to_id)+1) # 0 for padding\n",
    "tag_to_id = defaultdict(lambda: len(tag_to_id)+1)\n",
    "for word in fillers:\n",
    "    word_to_id[word]\n",
    "    if word != '_UNK':\n",
    "        tag_to_id[word]\n",
    "    \n",
    "print('Success!')"
   ]
  },
  {
   "cell_type": "markdown",
   "metadata": {
    "nbpresent": {
     "id": "db1b56c4-be4c-4029-818b-dedf89609106"
    }
   },
   "source": [
    "If that worked, you're good to go!\n",
    "\n",
    "Next, load these predefined functions for reading and preparing data for our neural networks."
   ]
  },
  {
   "cell_type": "code",
   "execution_count": 75,
   "metadata": {
    "collapsed": false,
    "nbpresent": {
     "id": "83b24b76-a41d-4b07-98ee-f2518923a49a"
    }
   },
   "outputs": [],
   "source": [
    "def read_ffnn_data(fname, delimiter='\\t'):\n",
    "    '''Read data from a tsv file with format: <word<TAB>tag<NEWLINE>'''\n",
    "    X, y = [], []\n",
    "    with open(fname, 'r', encoding='utf-8') as in_f:\n",
    "        for line in in_f:\n",
    "            if len(line) <= 2: continue\n",
    "            word, tag = line.strip().split(delimiter)\n",
    "            X.append([word_to_id.get(word, word_to_id['_UNK'])])\n",
    "            y.append(tag_to_id[tag])\n",
    "            \n",
    "    return X, y\n",
    "\n",
    "def read_rnn_data(fname, delimiter='\\t'):\n",
    "    '''\n",
    "    Read data from a tsv file with format: <word<TAB>tag<NEWLINE>,\n",
    "    and blank lines between each sentence.\n",
    "    '''\n",
    "    X, y = [], []\n",
    "    with open(fname, 'r', encoding='utf-8') as in_f:\n",
    "        curr_X, curr_y = [word_to_id['<w>']], [tag_to_id['<w>']]\n",
    "        for line in in_f:\n",
    "            if len(line) <= 2: # i.e. newline\n",
    "                if curr_X and curr_y:\n",
    "                    if len(curr_X) <= 20:\n",
    "                        curr_X.append(word_to_id['</w>'])\n",
    "                        curr_y.append(tag_to_id['</w>'])\n",
    "                        X.append(curr_X)\n",
    "                        y.append(curr_y)\n",
    "                    curr_X = [word_to_id['<w>']]\n",
    "                    curr_y = [tag_to_id['<w>']]\n",
    "                continue\n",
    "            word, tag = line.strip().split(delimiter)\n",
    "            curr_X.append(word_to_id.get(word, word_to_id['_UNK']))\n",
    "            curr_y.append(tag_to_id[tag])\n",
    "            \n",
    "    # Catch last line\n",
    "    if X and y:\n",
    "        curr_X.append(word_to_id['</w>'])\n",
    "        curr_y.append(tag_to_id['</w>'])\n",
    "        X.append(curr_X)\n",
    "        y.append(curr_y)\n",
    "            \n",
    "    return X, y\n",
    "\n",
    "def read_word_embeddings(fname):\n",
    "    '''Read an embeddings file matching the input vocab'''\n",
    "    word_vec_map = {}\n",
    "    with open(fname, 'r', encoding='utf-8') as in_f:\n",
    "        for line in in_f:\n",
    "            fields = line.strip().split()\n",
    "            word = fields[0]\n",
    "            embedding = np.asarray([float(i) for i in fields[1:]], dtype=np.float32)\n",
    "            word_to_id[word]\n",
    "            word_vec_map[word] = embedding\n",
    "    \n",
    "    return word_vec_map, len(embedding)\n",
    "\n",
    "def y_to_onehot(y, n_classes):\n",
    "    y_onehot = np.zeros((len(y), n_classes), dtype=np.int32)\n",
    "    for idx, tag in enumerate(y):\n",
    "        y_onehot[idx, tag] = 1\n",
    "        \n",
    "    return y_onehot\n",
    "\n",
    "def y_to_onehot_rnn(y):\n",
    "    y_onehot = np.zeros((len(y), max_sent_len, n_classes), dtype=np.int32)\n",
    "    for idx, sentence in enumerate(y):\n",
    "        for idy, tag in enumerate(sentence):\n",
    "            if idy >= max_sent_len: break\n",
    "            y_onehot[idx, idy+(max_sent_len-len(sentence)), tag] = 1\n",
    "            \n",
    "   # sequence.pad_sequences(y_onehot, maxlen=max_sent_len, dtype=np.int32, value=tag_to_id['<PAD>'])\n",
    "            \n",
    "    return y_onehot"
   ]
  },
  {
   "cell_type": "markdown",
   "metadata": {
    "nbpresent": {
     "id": "bed97432-8b2f-4897-b3c4-6248a74a0084"
    }
   },
   "source": [
    "## Feed-Forward Neural Networks\n",
    "\n",
    "So that our neural network can make sense of our data, we'll be working with numerical IDs from here on.\n",
    "\n",
    "We'll also load some pre-trained word representations. Such 'word embeddings' are a big part of the success of neural NLP applications. Using very simple techniques, distributional word representatiosn can be learnt both quickly and without any supervision at all."
   ]
  },
  {
   "cell_type": "code",
   "execution_count": 26,
   "metadata": {
    "collapsed": false,
    "nbpresent": {
     "id": "d9f6d0b7-36e0-465f-82e5-ee807081db66"
    }
   },
   "outputs": [],
   "source": [
    "word_to_vec, dimensionality = read_word_embeddings('sv.polyglot.filtered')\n",
    "vocab_size = len(word_to_vec)+1\n",
    "embedding_weights = np.zeros((vocab_size, dimensionality), dtype=np.float32)\n",
    "for word, index in word_to_id.items():\n",
    "    embedding_weights[index,:] = word_to_vec[word]\n"
   ]
  },
  {
   "cell_type": "markdown",
   "metadata": {
    "nbpresent": {
     "id": "9074300e-5c8b-4f92-b8d6-71f0e6148882"
    }
   },
   "source": [
    "Let's have a look at how some word representations are similar/different to each other (*low = similar, high = dissimilar*)."
   ]
  },
  {
   "cell_type": "code",
   "execution_count": 27,
   "metadata": {
    "collapsed": false,
    "nbpresent": {
     "id": "da295db5-0226-4301-ad25-26d678357845"
    }
   },
   "outputs": [
    {
     "name": "stdout",
     "output_type": "stream",
     "text": [
      "cos(gul, vit): 0.199402826075\n",
      "cos(usa, ger): 0.130351893484\n",
      "cos(vit, ger): 0.832578361366\n",
      "cos(usa, gul): 0.908857627253\n"
     ]
    }
   ],
   "source": [
    "gul = word_to_vec['gul']\n",
    "vit = word_to_vec['vit']\n",
    "usa = word_to_vec['USA']\n",
    "ger = word_to_vec['Tyskland']\n",
    "import scipy\n",
    "print('cos(gul, vit): {0}'.format(scipy.spatial.distance.cosine(gul, vit)))\n",
    "print('cos(usa, ger): {0}'.format(scipy.spatial.distance.cosine(usa, ger)))\n",
    "print('cos(vit, ger): {0}'.format(scipy.spatial.distance.cosine(vit, ger)))\n",
    "print('cos(usa, gul): {0}'.format(scipy.spatial.distance.cosine(usa, gul)))"
   ]
  },
  {
   "cell_type": "markdown",
   "metadata": {
    "nbpresent": {
     "id": "d0065840-742e-4c75-be5f-eb17cc2a0c39"
    }
   },
   "source": [
    "Next, we'll load some Part-of-Speech (POS) data.\n",
    "We'll use a subset of the Swedish Universal Dependencies POS data."
   ]
  },
  {
   "cell_type": "code",
   "execution_count": 88,
   "metadata": {
    "collapsed": false,
    "nbpresent": {
     "id": "9dedda3e-2534-4f5c-beb2-bb852f6ccc69"
    }
   },
   "outputs": [],
   "source": [
    "train_X, train_y = read_ffnn_data('sv-ud-train-small.conllu')\n",
    "dev_X, dev_y = read_ffnn_data('sv-ud-dev-small.conllu')\n",
    "test_X, test_y = read_ffnn_data('sv-ud-test-small.conllu')\n",
    "\n",
    "vocab_size = len(word_to_vec)+1\n",
    "n_classes = len(tag_to_id)+1\n",
    "\n",
    "train_y_onehot = y_to_onehot(train_y, n_classes)\n",
    "dev_y_onehot = y_to_onehot(dev_y, n_classes)\n",
    "test_y_onehot = y_to_onehot(test_y, n_classes)"
   ]
  },
  {
   "cell_type": "markdown",
   "metadata": {},
   "source": [
    "Let's have a look at the data, and calculate a simple baseline."
   ]
  },
  {
   "cell_type": "code",
   "execution_count": 79,
   "metadata": {
    "collapsed": false
   },
   "outputs": [
    {
     "data": {
      "image/png": "[encoded data removed]",
      "text/plain": [
       "<matplotlib.figure.Figure at 0x113bcaa90>"
      ]
     },
     "metadata": {},
     "output_type": "display_data"
    }
   ],
   "source": [
    "from collections import Counter\n",
    "class_counts = Counter(train_y)\n",
    "\n",
    "classes = [pos_class for pos_class, idx in sorted(tag_to_id.items())]\n",
    "counts = [class_counts.get(tag_to_id[pos_class], 0) / float(len(train_y)) for pos_class in classes]\n",
    "\n",
    "plt.bar(range(len(counts)), counts, tick_label=classes)\n",
    "locs, labels = plt.xticks()\n",
    "plt.setp(labels, rotation=45);"
   ]
  },
  {
   "cell_type": "markdown",
   "metadata": {},
   "source": [
    "More than 25% of the data belongs to the 'NOUN' class. A simple baseline we can use is to assign this majority class to all instances in our test data. A more fair comparison is to compare with the most frequent class per type in the training data, rather than the training data as a whole. This is essentially what a Naïve Bayes classifier would do, given only unigram features."
   ]
  },
  {
   "cell_type": "code",
   "execution_count": 81,
   "metadata": {
    "collapsed": false
   },
   "outputs": [
    {
     "data": {
      "text/plain": [
       "0.77934272300469487"
      ]
     },
     "execution_count": 81,
     "metadata": {},
     "output_type": "execute_result"
    }
   ],
   "source": [
    "from sklearn import naive_bayes\n",
    "clf = naive_bayes.MultinomialNB()\n",
    "clf.fit(y_to_onehot(train_X, vocab_size), train_y)\n",
    "clf.score(y_to_onehot(dev_X, vocab_size), dev_y)"
   ]
  },
  {
   "cell_type": "markdown",
   "metadata": {
    "nbpresent": {
     "id": "a1a8522f-6500-4d63-9b36-b342e665adf7"
    }
   },
   "source": [
    "Okay, that's a bit more challenging to beat!\n",
    "\n",
    "For our first experiments, we're using a simple type of Neural Networks: The Feed-Forward Neural Network (FFNN).\n",
    "\n",
    "In our case, the network will look something like this:"
   ]
  },
  {
   "cell_type": "markdown",
   "metadata": {},
   "source": []
  },
  {
   "cell_type": "code",
   "execution_count": 82,
   "metadata": {
    "collapsed": false,
    "nbpresent": {
     "id": "8d5b23b6-0c1f-4c62-a95d-d1772c699524"
    },
    "scrolled": true
   },
   "outputs": [],
   "source": [
    "from keras.models import Model\n",
    "from keras.layers import Input\n",
    "from keras.layers.core import Dense, Flatten\n",
    "from keras.layers.embeddings import Embedding\n",
    "\n",
    "def build_ffnn(n_layers, pretrained_embeddings):\n",
    "    '''\n",
    "    Build a simple Feed-Forward Neural Network.\n",
    "    '''\n",
    "    word_input = Input(shape=(1, ), dtype='int32', name='word_input') # One word at a time\n",
    "    if pretrained_embeddings:\n",
    "        word_embedding = Embedding(vocab_size, dimensionality, input_length=1, weights=[embedding_weights])(word_input)\n",
    "    else:\n",
    "        word_embedding = Embedding(vocab_size, dimensionality, input_length=1)(word_input)\n",
    "        \n",
    "    word_embedding = Flatten()(word_embedding)\n",
    "    \n",
    "    # Hidden layer(s)\n",
    "    layer_dim = dimensionality * 2\n",
    "    hidden = Dense(layer_dim)(word_embedding)\n",
    "    for n in range(n_layers-1):\n",
    "        hidden = Dense(layer_dim)(hidden)\n",
    "        layer_dim = int(layer_dim/2.0)\n",
    "    \n",
    "    model_output = Dense(n_classes, activation='softmax', name='main_output')(hidden)\n",
    "    model = Model(input=[word_input], output=[model_output])\n",
    "    \n",
    "    return model\n"
   ]
  },
  {
   "cell_type": "markdown",
   "metadata": {
    "nbpresent": {
     "id": "cf42fbb3-4450-4320-b4ec-cf12ff882138"
    }
   },
   "source": [
    "Try running the following block, and make a note of the results.\n",
    "\n",
    "Try changing some parameters (n layers, not using pretrained embeddings, n epochs) and see how things change.\n",
    "**Is going deeper better?**"
   ]
  },
  {
   "cell_type": "code",
   "execution_count": 111,
   "metadata": {
    "collapsed": false,
    "nbpresent": {
     "id": "653d700a-4c2f-4539-a13b-c7d30d297ffc"
    }
   },
   "outputs": [
    {
     "name": "stdout",
     "output_type": "stream",
     "text": [
      "____________________________________________________________________________________________________\n",
      "Layer (type)                     Output Shape          Param #     Connected to                     \n",
      "====================================================================================================\n",
      "word_input (InputLayer)          (None, 1)             0                                            \n",
      "____________________________________________________________________________________________________\n",
      "embedding_14 (Embedding)         (None, 1, 64)         849216      word_input[0][0]                 \n",
      "____________________________________________________________________________________________________\n",
      "flatten_7 (Flatten)              (None, 64)            0           embedding_14[0][0]               \n",
      "____________________________________________________________________________________________________\n",
      "dense_7 (Dense)                  (None, 128)           8320        flatten_7[0][0]                  \n",
      "____________________________________________________________________________________________________\n",
      "main_output (Dense)              (None, 20)            2580        dense_7[0][0]                    \n",
      "====================================================================================================\n",
      "Total params: 860116\n",
      "____________________________________________________________________________________________________\n",
      "Train on 18633 samples, validate on 1917 samples\n",
      "Epoch 1/10\n",
      "0s - loss: 2.4645 - acc: 0.3762 - val_loss: 2.0936 - val_acc: 0.4940\n",
      "Epoch 2/10\n",
      "0s - loss: 1.7489 - acc: 0.6058 - val_loss: 1.6161 - val_acc: 0.5952\n",
      "Epoch 3/10\n",
      "0s - loss: 1.3779 - acc: 0.6741 - val_loss: 1.3121 - val_acc: 0.7011\n",
      "Epoch 4/10\n",
      "0s - loss: 1.1421 - acc: 0.7432 - val_loss: 1.1100 - val_acc: 0.7491\n",
      "Epoch 5/10\n",
      "0s - loss: 0.9861 - acc: 0.7866 - val_loss: 0.9710 - val_acc: 0.7846\n",
      "Epoch 6/10\n",
      "0s - loss: 0.8783 - acc: 0.8103 - val_loss: 0.8707 - val_acc: 0.8033\n",
      "Epoch 7/10\n",
      "0s - loss: 0.7999 - acc: 0.8172 - val_loss: 0.7953 - val_acc: 0.8138\n",
      "Epoch 8/10\n",
      "0s - loss: 0.7406 - acc: 0.8205 - val_loss: 0.7366 - val_acc: 0.8190\n",
      "Epoch 9/10\n",
      "0s - loss: 0.6940 - acc: 0.8329 - val_loss: 0.6882 - val_acc: 0.8440\n",
      "Epoch 10/10\n",
      "0s - loss: 0.6565 - acc: 0.8372 - val_loss: 0.6505 - val_acc: 0.8451\n",
      "Evaluation - test_loss: 0.7160 - test_acc: 0.7999\n"
     ]
    },
    {
     "data": {
      "image/svg+xml": [
       "<svg height=\"337pt\" viewBox=\"0.00 0.00 185.00 337.00\" width=\"185pt\" xmlns=\"http://www.w3.org/2000/svg\" xmlns:xlink=\"http://www.w3.org/1999/xlink\">\n",
       "<g class=\"graph\" id=\"graph0\" transform=\"scale(1 1) rotate(0) translate(4 333)\">\n",
       "<title>G</title>\n",
       "<polygon fill=\"white\" points=\"-4,4 -4,-333 181,-333 181,4 -4,4\" stroke=\"none\"/>\n",
       "<!-- 4763877904 -->\n",
       "<g class=\"node\" id=\"node1\"><title>4763877904</title>\n",
       "<polygon fill=\"none\" points=\"10.5,-292.5 10.5,-328.5 166.5,-328.5 166.5,-292.5 10.5,-292.5\" stroke=\"black\"/>\n",
       "<text font-family=\"Times,serif\" font-size=\"14.00\" text-anchor=\"middle\" x=\"88.5\" y=\"-306.8\">word_input (InputLayer)</text>\n",
       "</g>\n",
       "<!-- 4763879120 -->\n",
       "<g class=\"node\" id=\"node2\"><title>4763879120</title>\n",
       "<polygon fill=\"none\" points=\"0,-219.5 0,-255.5 177,-255.5 177,-219.5 0,-219.5\" stroke=\"black\"/>\n",
       "<text font-family=\"Times,serif\" font-size=\"14.00\" text-anchor=\"middle\" x=\"88.5\" y=\"-233.8\">embedding_14 (Embedding)</text>\n",
       "</g>\n",
       "<!-- 4763877904&#45;&gt;4763879120 -->\n",
       "<g class=\"edge\" id=\"edge1\"><title>4763877904-&gt;4763879120</title>\n",
       "<path d=\"M88.5,-292.313C88.5,-284.289 88.5,-274.547 88.5,-265.569\" fill=\"none\" stroke=\"black\"/>\n",
       "<polygon fill=\"black\" points=\"92.0001,-265.529 88.5,-255.529 85.0001,-265.529 92.0001,-265.529\" stroke=\"black\"/>\n",
       "</g>\n",
       "<!-- 4815344976 -->\n",
       "<g class=\"node\" id=\"node3\"><title>4815344976</title>\n",
       "<polygon fill=\"none\" points=\"30,-146.5 30,-182.5 147,-182.5 147,-146.5 30,-146.5\" stroke=\"black\"/>\n",
       "<text font-family=\"Times,serif\" font-size=\"14.00\" text-anchor=\"middle\" x=\"88.5\" y=\"-160.8\">flatten_7 (Flatten)</text>\n",
       "</g>\n",
       "<!-- 4763879120&#45;&gt;4815344976 -->\n",
       "<g class=\"edge\" id=\"edge2\"><title>4763879120-&gt;4815344976</title>\n",
       "<path d=\"M88.5,-219.313C88.5,-211.289 88.5,-201.547 88.5,-192.569\" fill=\"none\" stroke=\"black\"/>\n",
       "<polygon fill=\"black\" points=\"92.0001,-192.529 88.5,-182.529 85.0001,-192.529 92.0001,-192.529\" stroke=\"black\"/>\n",
       "</g>\n",
       "<!-- 4642278736 -->\n",
       "<g class=\"node\" id=\"node4\"><title>4642278736</title>\n",
       "<polygon fill=\"none\" points=\"33.5,-73.5 33.5,-109.5 143.5,-109.5 143.5,-73.5 33.5,-73.5\" stroke=\"black\"/>\n",
       "<text font-family=\"Times,serif\" font-size=\"14.00\" text-anchor=\"middle\" x=\"88.5\" y=\"-87.8\">dense_7 (Dense)</text>\n",
       "</g>\n",
       "<!-- 4815344976&#45;&gt;4642278736 -->\n",
       "<g class=\"edge\" id=\"edge3\"><title>4815344976-&gt;4642278736</title>\n",
       "<path d=\"M88.5,-146.313C88.5,-138.289 88.5,-128.547 88.5,-119.569\" fill=\"none\" stroke=\"black\"/>\n",
       "<polygon fill=\"black\" points=\"92.0001,-119.529 88.5,-109.529 85.0001,-119.529 92.0001,-119.529\" stroke=\"black\"/>\n",
       "</g>\n",
       "<!-- 4642277776 -->\n",
       "<g class=\"node\" id=\"node5\"><title>4642277776</title>\n",
       "<polygon fill=\"none\" points=\"21,-0.5 21,-36.5 156,-36.5 156,-0.5 21,-0.5\" stroke=\"black\"/>\n",
       "<text font-family=\"Times,serif\" font-size=\"14.00\" text-anchor=\"middle\" x=\"88.5\" y=\"-14.8\">main_output (Dense)</text>\n",
       "</g>\n",
       "<!-- 4642278736&#45;&gt;4642277776 -->\n",
       "<g class=\"edge\" id=\"edge4\"><title>4642278736-&gt;4642277776</title>\n",
       "<path d=\"M88.5,-73.3129C88.5,-65.2895 88.5,-55.5475 88.5,-46.5691\" fill=\"none\" stroke=\"black\"/>\n",
       "<polygon fill=\"black\" points=\"92.0001,-46.5288 88.5,-36.5288 85.0001,-46.5289 92.0001,-46.5288\" stroke=\"black\"/>\n",
       "</g>\n",
       "</g>\n",
       "</svg>"
      ],
      "text/plain": [
       "<IPython.core.display.SVG object>"
      ]
     },
     "execution_count": 111,
     "metadata": {},
     "output_type": "execute_result"
    }
   ],
   "source": [
    "n_epochs = 10                # Number of epochs\n",
    "n_layers = 1                 # Number of hidden layers\n",
    "pretrained_embeddings = True # Using pretrained embeddings (True/False)\n",
    "\n",
    "model = build_ffnn(n_layers, pretrained_embeddings)\n",
    "model.compile(optimizer='sgd',\n",
    "             loss='categorical_crossentropy',\n",
    "             metrics=['accuracy'])\n",
    "model.summary()\n",
    "\n",
    "model.fit(train_X, train_y_onehot, validation_data=(dev_X, dev_y_onehot), nb_epoch=n_epochs, batch_size=100, verbose=2);\n",
    "print('Evaluation - test_loss: {0:.4f} - test_acc: {1:.4f}'.format(*model.evaluate(test_X, test_y_onehot, batch_size=100, verbose=2)))\n",
    "SVG(model_to_dot(model).create(prog='dot', format='svg'))"
   ]
  },
  {
   "cell_type": "markdown",
   "metadata": {
    "nbpresent": {
     "id": "b4a0dc32-b95e-4558-a39c-4e1b9fffe987"
    }
   },
   "source": [
    "Using pre-trained embeddings, you should have gotten a test accuracy of above 80%.\n",
    "Not too bad, considering the fact that we're not using any context!\n",
    "\n",
    "Now, let's do a small error analysis:"
   ]
  },
  {
   "cell_type": "code",
   "execution_count": 91,
   "metadata": {
    "collapsed": false,
    "nbpresent": {
     "id": "e8a83ab0-c3f3-47e6-b303-b1ea55600740"
    }
   },
   "outputs": [
    {
     "name": "stdout",
     "output_type": "stream",
     "text": [
      "SNT: [u'Det', u'k\\xe4nns', u'riktigt', u'att', u'ha', u'ett', u'riktigt', u'yrke', u'.']\n",
      "POS: [u'PRON', u'VERB', u'ADV', u'PART', u'VERB', u'DET', u'ADV', u'NOUN', u'PUNCT']\n",
      "UNK: [False, False, False, False, False, False, False, False, False]\n"
     ]
    }
   ],
   "source": [
    "def ffnn_predict_sentence(sent, model):\n",
    "    word_ids = [word_to_id.get(word, word_to_id['_UNK']) for word in sent]\n",
    "    preds = model.predict_on_batch(word_ids)\n",
    "    pred_pos = [tag for pred in preds for tag, tag_id in tag_to_id.items() if tag_id == np.argmax(pred)]\n",
    "    print('SNT: {0}'.format(sent))\n",
    "    print('POS: {0}\\nUNK: {1}'.format(pred_pos, [idx==word_to_id['_UNK'] for idx in word_ids]))\n",
    "    \n",
    "\n",
    "sent = u'Det känns riktigt att ha ett riktigt yrke .'.split()\n",
    "ffnn_predict_sentence(sent, model)\n"
   ]
  },
  {
   "cell_type": "markdown",
   "metadata": {
    "nbpresent": {
     "id": "d2bcd0f0-6a46-467e-9ba2-9238e6b765d6"
    }
   },
   "source": [
    "Since no context is used, the two instances of 'riktigt' incorrectly receive the same class (should be ADV, ADJ)."
   ]
  },
  {
   "cell_type": "markdown",
   "metadata": {
    "nbpresent": {
     "id": "1542954c-3b0d-4a9e-b51a-0797fb9ad948"
    }
   },
   "source": [
    "## Recurrent Neural Networks\n",
    "\n",
    "Using an FFNN is often sufficient, but incorporating context information (of varying lengths) is problematic.\n",
    "\n",
    "A solution to this, is to use Recurrent Neural Networks.\n",
    "(TODO: More info)\n",
    "\n",
    "First, we'll need to read in the data and convert it to a different format.\n",
    "Whereas we used a simple 'one word, one label' format for the FFNN, we now need a format corresponding to a sentence with tags.\n",
    "\n",
    "We also need to specify a maximum sentence length to consider - to keep things running on CPUs in a reasonable time, we'll restrict ourselves to sentences of 20 words or less."
   ]
  },
  {
   "cell_type": "code",
   "execution_count": 96,
   "metadata": {
    "collapsed": false,
    "nbpresent": {
     "id": "4b72058c-b3c5-4c30-97f1-b5912e98a637"
    }
   },
   "outputs": [],
   "source": [
    "from keras import backend as K\n",
    "from keras.preprocessing import sequence\n",
    "\n",
    "def actual_accuracy(act, pred):\n",
    "    '''\n",
    "    Calculate accuracy each batch.\n",
    "    Keras' standard calculation factors in our padding classes. We don't.\n",
    "    '''\n",
    "    act_argm  = K.argmax(act, axis=-1)   # Indices of act. classes\n",
    "    pred_argm = K.argmax(pred, axis=-1)  # Indices of pred. classes\n",
    "\n",
    "    incorrect = K.cast(K.not_equal(act_argm, pred_argm), dtype='float32')\n",
    "    correct   = K.cast(K.equal(act_argm, pred_argm), dtype='float32')\n",
    "    padding   = K.cast(K.equal(K.sum(act), 0), dtype='float32')\n",
    "    start     = K.cast(K.equal(act_argm, 0), dtype='float32')\n",
    "    end       = K.cast(K.equal(act_argm, 1), dtype='float32')\n",
    "\n",
    "    pad_start     = K.maximum(padding, start)\n",
    "    pad_start_end = K.maximum(pad_start, end) # 1 where pad, start or end\n",
    "\n",
    "    # Subtract pad_start_end from correct, then check equality to 1\n",
    "    # E.g.: act: [pad, pad, pad, <s>, tag, tag, tag, </s>]\n",
    "    #      pred: [pad, tag, pad, <s>, tag, tag, err, </s>]\n",
    "    #   correct: [1,     0,   1,   1,   1,   1,   0,    1]\n",
    "    #     p_s_e: [1,     1,   1,   1,,  0,   0,   0,    1]\n",
    "    #  corr-pse: [0,    -1,   0,   0,   1,   1,   0,    0] # Subtraction\n",
    "    # actu_corr: [0,     0,   0,   0,   1,   1,   0,    0] # Check equality to 1\n",
    "    corr_preds   = K.sum(K.cast(K.equal(correct - pad_start_end, 1), dtype='float32'))\n",
    "    incorr_preds = K.sum(K.cast(K.equal(incorrect - pad_start_end, 1), dtype='float32'))\n",
    "    total = corr_preds + incorr_preds\n",
    "    accuracy = corr_preds / total\n",
    "\n",
    "    return accuracy\n",
    "\n",
    "train_X_rnn, train_y_rnn = read_rnn_data('sv-ud-train.conllu')\n",
    "dev_X_rnn, dev_y_rnn = read_rnn_data('sv-ud-dev.conllu')\n",
    "test_X_rnn, test_y_rnn = read_rnn_data('sv-ud-test-small.conllu')\n",
    "\n",
    "max_sent_len = 20#max(len(sent) for sent in train_X)\n",
    "vocab_size = len(word_to_vec)+1\n",
    "n_classes = len(tag_to_id)+1\n",
    "\n",
    "train_y_rnn = y_to_onehot_rnn(train_y_rnn)\n",
    "dev_y_rnn = y_to_onehot_rnn(dev_y_rnn)\n",
    "test_y_rnn = y_to_onehot_rnn(test_y_rnn)\n",
    "\n",
    "train_X_rnn = sequence.pad_sequences(train_X_rnn, maxlen=max_sent_len, dtype=np.int32, value=word_to_id['<PAD>'])\n",
    "dev_X_rnn = sequence.pad_sequences(dev_X_rnn, maxlen=max_sent_len, dtype=np.int32, value=word_to_id['<PAD>'])\n",
    "test_X_rnn = sequence.pad_sequences(test_X_rnn, maxlen=max_sent_len, dtype=np.int32, value=word_to_id['<PAD>'])\n"
   ]
  },
  {
   "cell_type": "code",
   "execution_count": 97,
   "metadata": {
    "collapsed": false,
    "nbpresent": {
     "id": "4c1ae737-8b70-47cd-b040-d374af46b9a9"
    }
   },
   "outputs": [
    {
     "data": {
      "text/plain": [
       "(array([[0, 0, 0, 0, 0, 0, 0, 0, 0, 0, 0, 0, 0, 0, 0, 0, 0, 0, 0, 0],\n",
       "        [0, 0, 0, 0, 0, 0, 0, 0, 0, 0, 0, 0, 0, 0, 0, 0, 0, 0, 0, 0],\n",
       "        [0, 0, 0, 0, 0, 0, 0, 0, 0, 0, 0, 0, 0, 0, 0, 0, 0, 0, 0, 0],\n",
       "        [0, 0, 0, 0, 0, 0, 0, 0, 0, 0, 0, 0, 0, 0, 0, 0, 0, 0, 0, 0],\n",
       "        [0, 0, 0, 0, 0, 0, 0, 0, 0, 0, 0, 0, 0, 0, 0, 0, 0, 0, 0, 0],\n",
       "        [0, 0, 0, 0, 0, 0, 0, 0, 0, 0, 0, 0, 0, 0, 0, 0, 0, 0, 0, 0],\n",
       "        [0, 0, 0, 0, 0, 0, 0, 0, 0, 0, 0, 0, 0, 0, 0, 0, 0, 0, 0, 0],\n",
       "        [0, 0, 0, 0, 0, 0, 0, 0, 0, 0, 0, 0, 0, 0, 0, 0, 0, 0, 0, 0],\n",
       "        [0, 0, 0, 0, 0, 0, 0, 0, 0, 0, 0, 0, 0, 0, 0, 0, 0, 0, 0, 0],\n",
       "        [0, 0, 0, 0, 0, 0, 0, 0, 0, 0, 0, 0, 0, 0, 0, 0, 0, 0, 0, 0],\n",
       "        [0, 0, 0, 0, 0, 0, 0, 0, 0, 0, 0, 0, 0, 0, 0, 0, 0, 0, 0, 0],\n",
       "        [0, 0, 0, 0, 0, 0, 0, 0, 0, 0, 0, 0, 0, 0, 0, 0, 0, 0, 0, 0],\n",
       "        [0, 0, 0, 0, 0, 0, 0, 0, 0, 0, 0, 0, 0, 0, 0, 0, 0, 0, 0, 0],\n",
       "        [0, 0, 0, 0, 0, 0, 0, 0, 0, 0, 0, 0, 0, 0, 0, 0, 0, 0, 0, 0],\n",
       "        [0, 1, 0, 0, 0, 0, 0, 0, 0, 0, 0, 0, 0, 0, 0, 0, 0, 0, 0, 0],\n",
       "        [0, 0, 0, 0, 1, 0, 0, 0, 0, 0, 0, 0, 0, 0, 0, 0, 0, 0, 0, 0],\n",
       "        [0, 0, 0, 0, 0, 1, 0, 0, 0, 0, 0, 0, 0, 0, 0, 0, 0, 0, 0, 0],\n",
       "        [0, 0, 0, 0, 0, 0, 1, 0, 0, 0, 0, 0, 0, 0, 0, 0, 0, 0, 0, 0],\n",
       "        [0, 0, 0, 0, 0, 1, 0, 0, 0, 0, 0, 0, 0, 0, 0, 0, 0, 0, 0, 0],\n",
       "        [0, 0, 1, 0, 0, 0, 0, 0, 0, 0, 0, 0, 0, 0, 0, 0, 0, 0, 0, 0]], dtype=int32),\n",
       " array([    3,     3,     3,     3,     3,     3,     3,     3,     3,\n",
       "            3,     3,     3,     3,     3,     1, 10668,  7379,     9,\n",
       "            4,     2], dtype=int32))"
      ]
     },
     "execution_count": 97,
     "metadata": {},
     "output_type": "execute_result"
    }
   ],
   "source": [
    "train_y_rnn[0],train_X_rnn[0]"
   ]
  },
  {
   "cell_type": "code",
   "execution_count": 98,
   "metadata": {
    "collapsed": false,
    "nbpresent": {
     "id": "c7940def-8980-4383-b844-c677080cc1ac"
    }
   },
   "outputs": [],
   "source": [
    "from keras.models import Model\n",
    "from keras.layers import Input, LSTM, GRU, SimpleRNN, merge, BatchNormalization\n",
    "from keras.layers.core import Dropout\n",
    "from keras.layers.embeddings import Embedding\n",
    "from keras.layers.wrappers import TimeDistributed\n",
    "from keras.callbacks import EarlyStopping\n",
    "\n",
    "def build_rnn(bidirectional, pretrained_embeddings, rnn_type, fancy, deep):\n",
    "    '''\n",
    "    Build a Recurrent Neural Network.\n",
    "    '''\n",
    "    word_input = Input(shape=(max_sent_len, ), dtype='int32', name='word_input') # One word at a time\n",
    "    if pretrained_embeddings:\n",
    "        word_embedding = Embedding(vocab_size, dimensionality, \n",
    "                                   input_length=max_sent_len, weights=[embedding_weights])(word_input)\n",
    "    else:\n",
    "        word_embedding = Embedding(vocab_size, dimensionality, \n",
    "                                   input_length=max_sent_len)(word_input)\n",
    "    \n",
    "    if fancy:\n",
    "        word_embedding = Dropout(0.4)(word_embedding)\n",
    "        word_embedding = BatchNormalization(mode=1)(word_embedding)\n",
    "    \n",
    "    if bidirectional:\n",
    "        forward = rnn_type(output_dim=128, return_sequences=True, \n",
    "                           dropout_W=fancy*0.5, go_backwards=False)(word_embedding)\n",
    "        backward = rnn_type(output_dim=128, return_sequences=True, \n",
    "                            dropout_W=fancy*0.5, go_backwards=True)(word_embedding)\n",
    "        rnn = merge([forward, backward], mode='concat')\n",
    "        if deep:\n",
    "            if fancy:\n",
    "                rnn = Dropout(0.4)(rnn)\n",
    "                rnn = BatchNormalization(mode=1)(rnn)\n",
    "            forward = rnn_type(output_dim=128, return_sequences=True, \n",
    "                               dropout_W=fancy*0.5, go_backwards=False)(rnn)\n",
    "            backward = rnn_type(output_dim=128, return_sequences=True, \n",
    "                                dropout_W=fancy*0.5, go_backwards=True)(rnn)\n",
    "            rnn = merge([forward, backward], mode='concat')\n",
    "    else:\n",
    "        rnn = rnn_type(output_dim=128, dropout_W=fancy*0.5, return_sequences=True)(word_embedding)\n",
    "        if deep:\n",
    "            rnn = rnn_type(output_dim=128, dropout_W=fancy*0.5, return_sequences=True)(rnn)\n",
    "    \n",
    "    if fancy:\n",
    "        rnn = Dropout(0.4)(rnn)\n",
    "        rnn = BatchNormalization(mode=1)(rnn)\n",
    "        \n",
    "    if fancy:\n",
    "        hidden = TimeDistributed(Dense(n_classes, activation='relu', name='extra_hidden'))(rnn)\n",
    "    else:\n",
    "        hidden = TimeDistributed(Dense(n_classes, activation='sigmoid', name='extra_hidden'))(rnn)\n",
    "    \n",
    "    model_output = TimeDistributed(Dense(n_classes, activation='softmax', name='main_output'))(hidden)\n",
    "    model = Model(input=[word_input], output=[model_output])\n",
    "    \n",
    "    return model\n",
    "\n"
   ]
  },
  {
   "cell_type": "markdown",
   "metadata": {
    "nbpresent": {
     "id": "8b8a64ae-caeb-4f6b-b1ef-3aac6dcbe9ff"
    }
   },
   "source": [
    "Try running the following block, and make a note of the results.\n",
    "\n",
    "Try changing some parameters again (bidirectional RNN, type of RNN, going deep, using 'fancy' stuff) and see how things change."
   ]
  },
  {
   "cell_type": "code",
   "execution_count": 112,
   "metadata": {
    "collapsed": false,
    "nbpresent": {
     "id": "837be21c-cdf0-4768-94d3-fced4e38abe2"
    },
    "scrolled": true
   },
   "outputs": [
    {
     "name": "stdout",
     "output_type": "stream",
     "text": [
      "____________________________________________________________________________________________________\n",
      "Layer (type)                     Output Shape          Param #     Connected to                     \n",
      "====================================================================================================\n",
      "word_input (InputLayer)          (None, 20)            0                                            \n",
      "____________________________________________________________________________________________________\n",
      "embedding_15 (Embedding)         (None, 20, 64)        849216      word_input[0][0]                 \n",
      "____________________________________________________________________________________________________\n",
      "simplernn_8 (SimpleRNN)          (None, 20, 128)       24704       embedding_15[0][0]               \n",
      "____________________________________________________________________________________________________\n",
      "simplernn_9 (SimpleRNN)          (None, 20, 128)       24704       embedding_15[0][0]               \n",
      "____________________________________________________________________________________________________\n",
      "merge_4 (Merge)                  (None, 20, 256)       0           simplernn_8[0][0]                \n",
      "                                                                   simplernn_9[0][0]                \n",
      "____________________________________________________________________________________________________\n",
      "timedistributed_15 (TimeDistribut(None, 20, 20)        5140        merge_4[0][0]                    \n",
      "____________________________________________________________________________________________________\n",
      "timedistributed_16 (TimeDistribut(None, 20, 20)        420         timedistributed_15[0][0]         \n",
      "====================================================================================================\n",
      "Total params: 904184\n",
      "____________________________________________________________________________________________________\n",
      "Train on 3151 samples, validate on 305 samples\n",
      "Epoch 1/10\n",
      "4s - loss: 1.0552 - actual_accuracy: 0.5847 - val_loss: 0.6494 - val_actual_accuracy: 0.8034\n",
      "Epoch 2/10\n",
      "4s - loss: 0.4135 - actual_accuracy: 0.8697 - val_loss: 0.3492 - val_actual_accuracy: 0.8737\n",
      "Epoch 3/10\n",
      "4s - loss: 0.2519 - actual_accuracy: 0.8999 - val_loss: 0.2652 - val_actual_accuracy: 0.8965\n",
      "Epoch 4/10\n",
      "6s - loss: 0.1891 - actual_accuracy: 0.9205 - val_loss: 0.2399 - val_actual_accuracy: 0.8976\n",
      "Epoch 5/10\n",
      "6s - loss: 0.1539 - actual_accuracy: 0.9362 - val_loss: 0.2227 - val_actual_accuracy: 0.8970\n",
      "Epoch 6/10\n",
      "5s - loss: 0.1291 - actual_accuracy: 0.9446 - val_loss: 0.2227 - val_actual_accuracy: 0.8986\n",
      "Epoch 7/10\n",
      "5s - loss: 0.1096 - actual_accuracy: 0.9536 - val_loss: 0.2128 - val_actual_accuracy: 0.9020\n",
      "Epoch 8/10\n",
      "6s - loss: 0.0941 - actual_accuracy: 0.9604 - val_loss: 0.2258 - val_actual_accuracy: 0.8957\n",
      "Epoch 9/10\n",
      "5s - loss: 0.0813 - actual_accuracy: 0.9662 - val_loss: 0.2193 - val_actual_accuracy: 0.9006\n",
      "Epoch 10/10\n",
      "4s - loss: 0.0686 - actual_accuracy: 0.9714 - val_loss: 0.2306 - val_actual_accuracy: 0.8965\n",
      "Evaluation - test_loss: 0.2311 - test_acc: 0.8852\n"
     ]
    },
    {
     "data": {
      "image/svg+xml": [
       "<svg height=\"410pt\" viewBox=\"0.00 0.00 364.00 410.00\" width=\"364pt\" xmlns=\"http://www.w3.org/2000/svg\" xmlns:xlink=\"http://www.w3.org/1999/xlink\">\n",
       "<g class=\"graph\" id=\"graph0\" transform=\"scale(1 1) rotate(0) translate(4 406)\">\n",
       "<title>G</title>\n",
       "<polygon fill=\"white\" points=\"-4,4 -4,-406 360,-406 360,4 -4,4\" stroke=\"none\"/>\n",
       "<!-- 4834105168 -->\n",
       "<g class=\"node\" id=\"node1\"><title>4834105168</title>\n",
       "<polygon fill=\"none\" points=\"99.5,-365.5 99.5,-401.5 255.5,-401.5 255.5,-365.5 99.5,-365.5\" stroke=\"black\"/>\n",
       "<text font-family=\"Times,serif\" font-size=\"14.00\" text-anchor=\"middle\" x=\"177.5\" y=\"-379.8\">word_input (InputLayer)</text>\n",
       "</g>\n",
       "<!-- 4834105680 -->\n",
       "<g class=\"node\" id=\"node2\"><title>4834105680</title>\n",
       "<polygon fill=\"none\" points=\"89,-292.5 89,-328.5 266,-328.5 266,-292.5 89,-292.5\" stroke=\"black\"/>\n",
       "<text font-family=\"Times,serif\" font-size=\"14.00\" text-anchor=\"middle\" x=\"177.5\" y=\"-306.8\">embedding_15 (Embedding)</text>\n",
       "</g>\n",
       "<!-- 4834105168&#45;&gt;4834105680 -->\n",
       "<g class=\"edge\" id=\"edge1\"><title>4834105168-&gt;4834105680</title>\n",
       "<path d=\"M177.5,-365.313C177.5,-357.289 177.5,-347.547 177.5,-338.569\" fill=\"none\" stroke=\"black\"/>\n",
       "<polygon fill=\"black\" points=\"181,-338.529 177.5,-328.529 174,-338.529 181,-338.529\" stroke=\"black\"/>\n",
       "</g>\n",
       "<!-- 4761452496 -->\n",
       "<g class=\"node\" id=\"node3\"><title>4761452496</title>\n",
       "<polygon fill=\"none\" points=\"0,-219.5 0,-255.5 169,-255.5 169,-219.5 0,-219.5\" stroke=\"black\"/>\n",
       "<text font-family=\"Times,serif\" font-size=\"14.00\" text-anchor=\"middle\" x=\"84.5\" y=\"-233.8\">simplernn_8 (SimpleRNN)</text>\n",
       "</g>\n",
       "<!-- 4834105680&#45;&gt;4761452496 -->\n",
       "<g class=\"edge\" id=\"edge2\"><title>4834105680-&gt;4761452496</title>\n",
       "<path d=\"M154.987,-292.313C142.993,-283.156 128.066,-271.76 115.04,-261.816\" fill=\"none\" stroke=\"black\"/>\n",
       "<polygon fill=\"black\" points=\"116.878,-258.815 106.805,-255.529 112.63,-264.379 116.878,-258.815\" stroke=\"black\"/>\n",
       "</g>\n",
       "<!-- 4567123728 -->\n",
       "<g class=\"node\" id=\"node4\"><title>4567123728</title>\n",
       "<polygon fill=\"none\" points=\"187,-219.5 187,-255.5 356,-255.5 356,-219.5 187,-219.5\" stroke=\"black\"/>\n",
       "<text font-family=\"Times,serif\" font-size=\"14.00\" text-anchor=\"middle\" x=\"271.5\" y=\"-233.8\">simplernn_9 (SimpleRNN)</text>\n",
       "</g>\n",
       "<!-- 4834105680&#45;&gt;4567123728 -->\n",
       "<g class=\"edge\" id=\"edge3\"><title>4834105680-&gt;4567123728</title>\n",
       "<path d=\"M200.255,-292.313C212.378,-283.156 227.466,-271.76 240.631,-261.816\" fill=\"none\" stroke=\"black\"/>\n",
       "<polygon fill=\"black\" points=\"243.085,-264.349 248.955,-255.529 238.866,-258.763 243.085,-264.349\" stroke=\"black\"/>\n",
       "</g>\n",
       "<!-- 4761403024 -->\n",
       "<g class=\"node\" id=\"node5\"><title>4761403024</title>\n",
       "<polygon fill=\"none\" points=\"120,-146.5 120,-182.5 235,-182.5 235,-146.5 120,-146.5\" stroke=\"black\"/>\n",
       "<text font-family=\"Times,serif\" font-size=\"14.00\" text-anchor=\"middle\" x=\"177.5\" y=\"-160.8\">merge_4 (Merge)</text>\n",
       "</g>\n",
       "<!-- 4761452496&#45;&gt;4761403024 -->\n",
       "<g class=\"edge\" id=\"edge4\"><title>4761452496-&gt;4761403024</title>\n",
       "<path d=\"M107.013,-219.313C119.007,-210.156 133.934,-198.76 146.96,-188.816\" fill=\"none\" stroke=\"black\"/>\n",
       "<polygon fill=\"black\" points=\"149.37,-191.379 155.195,-182.529 145.122,-185.815 149.37,-191.379\" stroke=\"black\"/>\n",
       "</g>\n",
       "<!-- 4567123728&#45;&gt;4761403024 -->\n",
       "<g class=\"edge\" id=\"edge5\"><title>4567123728-&gt;4761403024</title>\n",
       "<path d=\"M248.745,-219.313C236.622,-210.156 221.534,-198.76 208.369,-188.816\" fill=\"none\" stroke=\"black\"/>\n",
       "<polygon fill=\"black\" points=\"210.134,-185.763 200.045,-182.529 205.915,-191.349 210.134,-185.763\" stroke=\"black\"/>\n",
       "</g>\n",
       "<!-- 4761400464 -->\n",
       "<g class=\"node\" id=\"node6\"><title>4761400464</title>\n",
       "<polygon fill=\"none\" points=\"63.5,-73.5 63.5,-109.5 291.5,-109.5 291.5,-73.5 63.5,-73.5\" stroke=\"black\"/>\n",
       "<text font-family=\"Times,serif\" font-size=\"14.00\" text-anchor=\"middle\" x=\"177.5\" y=\"-87.8\">timedistributed_15 (TimeDistributed)</text>\n",
       "</g>\n",
       "<!-- 4761403024&#45;&gt;4761400464 -->\n",
       "<g class=\"edge\" id=\"edge6\"><title>4761403024-&gt;4761400464</title>\n",
       "<path d=\"M177.5,-146.313C177.5,-138.289 177.5,-128.547 177.5,-119.569\" fill=\"none\" stroke=\"black\"/>\n",
       "<polygon fill=\"black\" points=\"181,-119.529 177.5,-109.529 174,-119.529 181,-119.529\" stroke=\"black\"/>\n",
       "</g>\n",
       "<!-- 4806362576 -->\n",
       "<g class=\"node\" id=\"node7\"><title>4806362576</title>\n",
       "<polygon fill=\"none\" points=\"63.5,-0.5 63.5,-36.5 291.5,-36.5 291.5,-0.5 63.5,-0.5\" stroke=\"black\"/>\n",
       "<text font-family=\"Times,serif\" font-size=\"14.00\" text-anchor=\"middle\" x=\"177.5\" y=\"-14.8\">timedistributed_16 (TimeDistributed)</text>\n",
       "</g>\n",
       "<!-- 4761400464&#45;&gt;4806362576 -->\n",
       "<g class=\"edge\" id=\"edge7\"><title>4761400464-&gt;4806362576</title>\n",
       "<path d=\"M177.5,-73.3129C177.5,-65.2895 177.5,-55.5475 177.5,-46.5691\" fill=\"none\" stroke=\"black\"/>\n",
       "<polygon fill=\"black\" points=\"181,-46.5288 177.5,-36.5288 174,-46.5289 181,-46.5288\" stroke=\"black\"/>\n",
       "</g>\n",
       "</g>\n",
       "</svg>"
      ],
      "text/plain": [
       "<IPython.core.display.SVG object>"
      ]
     },
     "execution_count": 112,
     "metadata": {},
     "output_type": "execute_result"
    }
   ],
   "source": [
    "n_epochs              = 10    # Number of epochs\n",
    "bidirectional         = True # Using bidirectional (True/False)\n",
    "pretrained_embeddings = True  # Using pretrained embeddings (True/False)\n",
    "rnn_type              = SimpleRNN  # One out of: SimpleRNN, GRU, LSTM\n",
    "fancy                 = False # Use modern stuff (True/False) (Adds: Dropout, BatchNormalisation, ReLu)\n",
    "deep                  = False # Add another layer of recurrent connections\n",
    "\n",
    "\n",
    "model = build_rnn(bidirectional, pretrained_embeddings, rnn_type, fancy, deep)\n",
    "model.compile(optimizer='adam',\n",
    "             loss='categorical_crossentropy',\n",
    "             metrics=[actual_accuracy,])\n",
    "model.summary()\n",
    "\n",
    "model.fit(train_X_rnn, train_y_rnn, validation_data=(dev_X_rnn, dev_y_rnn), nb_epoch=n_epochs, batch_size=10, verbose=2, callbacks=[EarlyStopping(monitor='val_loss', patience=2)]);\n",
    "print('Evaluation - test_loss: {0:.4f} - test_acc: {1:.4f}'.format(*model.evaluate(test_X_rnn, test_y_rnn, batch_size=10, verbose=2)))\n",
    "SVG(model_to_dot(model).create(prog='dot', format='svg'))"
   ]
  },
  {
   "cell_type": "markdown",
   "metadata": {
    "nbpresent": {
     "id": "b0b1e4ac-f411-4080-a93e-250e6722df16"
    }
   },
   "source": [
    "You should be able to get somewhere around 90 - 92% accuracy on both dev and test.\n",
    "That's an error reduction of about 50% compared to a standard FFNN!\n",
    "\n",
    "Let's do the same error analysis as in the previous case:"
   ]
  },
  {
   "cell_type": "code",
   "execution_count": 100,
   "metadata": {
    "collapsed": false,
    "nbpresent": {
     "id": "f5fbbb43-aa33-4a61-b669-37a890079fcd"
    }
   },
   "outputs": [
    {
     "name": "stdout",
     "output_type": "stream",
     "text": [
      "SNT: [u'Det', u'k\\xe4nns', u'riktigt', u'att', u'ha', u'ett', u'riktigt', u'yrke', u'.']\n",
      "POS: [u'PRON', u'VERB', u'ADV', u'SCONJ', u'VERB', u'DET', u'ADJ', u'NOUN', u'PUNCT']\n",
      " UNK:[False, False, False, False, False, False, False, False, False]\n"
     ]
    }
   ],
   "source": [
    "def rnn_predict_sentence(sent, model):\n",
    "    word_ids = [word_to_id.get(word, word_to_id['_UNK']) for word in sent]\n",
    "    padded = sequence.pad_sequences([word_ids], maxlen=max_sent_len, dtype=np.int32, value=word_to_id['<PAD>'])\n",
    "    preds = model.predict_on_batch(padded)\n",
    "    pred_pos = [tag for pred in preds[0] for tag, tag_id in tag_to_id.items() if tag_id == np.argmax(pred)]\n",
    "    print('SNT: {0}'.format(sent))\n",
    "    print('POS: {0}\\n UNK:{1}'.format(pred_pos[-len(sent):], [idx==word_to_id['_UNK'] for idx in word_ids]))\n",
    "    \n",
    "\n",
    "sent = u'Det känns riktigt att ha ett riktigt yrke .'.split()\n",
    "rnn_predict_sentence(sent, model)"
   ]
  },
  {
   "cell_type": "markdown",
   "metadata": {
    "nbpresent": {
     "id": "021d56d7-cffd-420f-b592-653c62a2e85b"
    }
   },
   "source": [
    "We now get both types of 'riktigt' right, thanks to the RNN taking advantage of context."
   ]
  },
  {
   "cell_type": "code",
   "execution_count": null,
   "metadata": {
    "collapsed": true,
    "nbpresent": {
     "id": "aa9fddc0-4baa-4622-a098-2694b763276b"
    }
   },
   "outputs": [],
   "source": []
  }
 ],
 "metadata": {
  "anaconda-cloud": {},
  "kernelspec": {
   "display_name": "Python [Root]",
   "language": "python",
   "name": "Python [Root]"
  },
  "language_info": {
   "codemirror_mode": {
    "name": "ipython",
    "version": 2
   },
   "file_extension": ".py",
   "mimetype": "text/x-python",
   "name": "python",
   "nbconvert_exporter": "python",
   "pygments_lexer": "ipython2",
   "version": "2.7.12"
  },
  "nbpresent": {
   "slides": {},
   "themes": {
    "default": "70cd699b-d195-43ef-8ab8-d2905453470b",
    "theme": {}
   }
  }
 },
 "nbformat": 4,
 "nbformat_minor": 0
}
