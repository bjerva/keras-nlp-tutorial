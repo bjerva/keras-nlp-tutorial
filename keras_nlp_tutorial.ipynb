{
 "cells": [
  {
   "cell_type": "markdown",
   "metadata": {
    "nbpresent": {
     "id": "49538487-3502-4153-a997-f3b1f1b26334"
    }
   },
   "source": [
    "# Deep Learning for NLP with Keras\n",
    "\n",
    "\n",
    "This notebook is meant to give you the tools to get started with using neural networks.\n",
    "We'll be using the toolkit **Keras**, which is a very up-to-date and sufficiently high-level Python package for quick development of Deep Learning systems.\n",
    "\n",
    "In this workshop, we'll be focussing on approaches relevant to NLP.\n",
    "We'll cover methods for simple classification, and for structured prediction.\n"
   ]
  },
  {
   "cell_type": "markdown",
   "metadata": {
    "nbpresent": {
     "id": "30e3ab39-33ec-4cc9-8cbe-2f5166229978"
    }
   },
   "source": [
    "# Feed-Forward Neural Networks (FFNN)\n",
    "<img src=\"files/neural_network_1.tiff\">"
   ]
  },
  {
   "cell_type": "markdown",
   "metadata": {
    "nbpresent": {
     "id": "8afb94f8-5d1c-4ea8-a40b-4640cca6274b"
    }
   },
   "source": [
    "<img src=\"files/neural_network_multiclass.tiff\">"
   ]
  },
  {
   "cell_type": "markdown",
   "metadata": {
    "nbpresent": {
     "id": "2b4a0284-2c11-40b4-87bc-397a04aee9f7"
    }
   },
   "source": [
    "<img src=\"files/multiclass_onehot.tiff\">"
   ]
  },
  {
   "cell_type": "markdown",
   "metadata": {},
   "source": [
    "# Building blocks of a neural network\n",
    "\n",
    "* Input representations\n",
    "\n",
    "* Hidden layers\n",
    "\n",
    "* Output\n",
    "\n",
    "<img src=\"files/neural_network_1.tiff\">"
   ]
  },
  {
   "cell_type": "markdown",
   "metadata": {},
   "source": [
    "## How is the output of a neuron determined?\n",
    "\n",
    "<img src=\"files/act_func.png\">\n",
    "\n",
    "\n",
    "https://en.wikipedia.org/wiki/Activation_function\n",
    "\n",
    "https://keras.io/activations/"
   ]
  },
  {
   "cell_type": "code",
   "execution_count": 1,
   "metadata": {
    "collapsed": false,
    "nbpresent": {
     "id": "3012f0d5-b137-4e58-9196-74fd557ebabc"
    }
   },
   "outputs": [
    {
     "name": "stderr",
     "output_type": "stream",
     "text": [
      "Using Theano backend.\n"
     ]
    },
    {
     "name": "stdout",
     "output_type": "stream",
     "text": [
      "Success!\n"
     ]
    }
   ],
   "source": [
    "# Begin by trying to import the necessary packages (click this cell, and then Shift+Enter)\n",
    "\n",
    "%matplotlib inline\n",
    "\n",
    "import matplotlib\n",
    "import matplotlib.pyplot as plt\n",
    "\n",
    "import numpy as np\n",
    "np.random.seed(1337)  # Freeze seeds for reproducibility\n",
    "import keras\n",
    "\n",
    "from codecs import open\n",
    "from collections import defaultdict\n",
    "\n",
    "# Prepare word/tag to ID conversions\n",
    "fillers = ('<w>', '</w>', '<PAD>', '_UNK')\n",
    "word_to_id = defaultdict(lambda: len(word_to_id)+1) # 0 for padding\n",
    "tag_to_id = defaultdict(lambda: len(tag_to_id)+1)\n",
    "for word in fillers:\n",
    "    word_to_id[word]\n",
    "    if word != '_UNK':\n",
    "        tag_to_id[word]\n",
    "    \n",
    "print('Success!')"
   ]
  },
  {
   "cell_type": "markdown",
   "metadata": {
    "nbpresent": {
     "id": "db1b56c4-be4c-4029-818b-dedf89609106"
    }
   },
   "source": [
    "If that worked, you're good to go!\n",
    "\n",
    "Next, load these predefined functions for reading and preparing data for our neural networks."
   ]
  },
  {
   "cell_type": "code",
   "execution_count": 2,
   "metadata": {
    "collapsed": false,
    "nbpresent": {
     "id": "83b24b76-a41d-4b07-98ee-f2518923a49a"
    }
   },
   "outputs": [],
   "source": [
    "def read_ffnn_data(fname, delimiter='\\t'):\n",
    "    '''Read data from a tsv file with format: <word<TAB>tag<NEWLINE>'''\n",
    "    X, y = [], []\n",
    "    with open(fname, 'r', encoding='utf-8') as in_f:\n",
    "        for line in in_f:\n",
    "            if len(line) <= 2: continue\n",
    "            word, tag = line.strip().split(delimiter)\n",
    "            X.append([word_to_id.get(word, word_to_id['_UNK'])])\n",
    "            y.append(tag_to_id[tag])\n",
    "            \n",
    "    return X, y\n",
    "\n",
    "\n",
    "def y_to_onehot(y, n_classes):\n",
    "    y_onehot = np.zeros((len(y), n_classes), dtype=np.int32)\n",
    "    for idx, tag in enumerate(y):\n",
    "        y_onehot[idx, tag] = 1\n",
    "        \n",
    "    return y_onehot"
   ]
  },
  {
   "cell_type": "markdown",
   "metadata": {
    "nbpresent": {
     "id": "bed97432-8b2f-4897-b3c4-6248a74a0084"
    }
   },
   "source": [
    "## Input Representation\n",
    "\n",
    "So that our neural network can make sense of our data, we'll convert each word to a numerical ID, yielding a discrete representation:\n",
    "\n",
    "$x_{cat} = [0, 0, 0, 1]$\n",
    "\n",
    "$x_{dog} = [0, 1, 0, 0]$\n",
    "\n",
    "$sim(x_{cat}, x_{dog})$?\n",
    "\n",
    "\n",
    "Distributional semantics to the rescue!\n",
    "We'll load some pre-trained word representations. Such 'word embeddings' are a big part of the success of neural NLP applications. Using very simple techniques, distributional word representations can be learnt both quickly and without any supervision at all."
   ]
  },
  {
   "cell_type": "code",
   "execution_count": 3,
   "metadata": {
    "collapsed": false,
    "nbpresent": {
     "id": "d9f6d0b7-36e0-465f-82e5-ee807081db66"
    }
   },
   "outputs": [],
   "source": [
    "def read_word_embeddings(fname):\n",
    "    '''Read an embeddings file matching the input vocab'''\n",
    "    word_vec_map = {}\n",
    "    with open(fname, 'r', encoding='utf-8') as in_f:\n",
    "        for line in in_f:\n",
    "            fields = line.strip().split()\n",
    "            word = fields[0]\n",
    "            embedding = np.asarray([float(i) for i in fields[1:]], dtype=np.float32)\n",
    "            word_to_id[word]\n",
    "            word_vec_map[word] = embedding\n",
    "    \n",
    "    return word_vec_map, len(embedding)\n",
    "\n",
    "word_to_vec, dimensionality = read_word_embeddings('sv.polyglot.filtered')\n",
    "vocab_size = len(word_to_vec)+1\n",
    "embedding_weights = np.zeros((vocab_size, dimensionality), dtype=np.float32)\n",
    "for word, index in word_to_id.items():\n",
    "    embedding_weights[index,:] = word_to_vec[word]"
   ]
  },
  {
   "cell_type": "markdown",
   "metadata": {
    "nbpresent": {
     "id": "9074300e-5c8b-4f92-b8d6-71f0e6148882"
    }
   },
   "source": [
    "Let's have a look at how some word representations are similar/different to each other (*low = similar, high = dissimilar*)."
   ]
  },
  {
   "cell_type": "code",
   "execution_count": 4,
   "metadata": {
    "collapsed": false,
    "nbpresent": {
     "id": "da295db5-0226-4301-ad25-26d678357845"
    }
   },
   "outputs": [
    {
     "name": "stdout",
     "output_type": "stream",
     "text": [
      "cos(gul, vit): 0.199402826075\n",
      "cos(usa, ger): 0.130351893484\n",
      "cos(vit, ger): 0.832578361366\n",
      "cos(usa, gul): 0.908857627253\n"
     ]
    }
   ],
   "source": [
    "gul = word_to_vec['gul']\n",
    "vit = word_to_vec['vit']\n",
    "usa = word_to_vec['USA']\n",
    "ger = word_to_vec['Tyskland']\n",
    "import scipy\n",
    "print('cos(gul, vit): {0}'.format(scipy.spatial.distance.cosine(gul, vit)))\n",
    "print('cos(usa, ger): {0}'.format(scipy.spatial.distance.cosine(usa, ger)))\n",
    "print('cos(vit, ger): {0}'.format(scipy.spatial.distance.cosine(vit, ger)))\n",
    "print('cos(usa, gul): {0}'.format(scipy.spatial.distance.cosine(usa, gul)))"
   ]
  },
  {
   "cell_type": "markdown",
   "metadata": {},
   "source": [
    "We can also try to plot (a subset of) these vectors, to see whether they 'make sense'."
   ]
  },
  {
   "cell_type": "code",
   "execution_count": 5,
   "metadata": {
    "collapsed": false
   },
   "outputs": [
    {
     "data": {
      "image/png": "[encoded data removed]",
      "text/plain": [
       "<matplotlib.figure.Figure at 0x110488bd0>"
      ]
     },
     "metadata": {},
     "output_type": "display_data"
    }
   ],
   "source": [
    "from sklearn.manifold import TSNE\n",
    "tsne = TSNE(n_components=2, random_state=1)\n",
    "n_vecs = int(len(embedding_weights) * 0.05)\n",
    "trans = tsne.fit_transform(embedding_weights[:n_vecs])\n",
    "\n",
    "fig = plt.figure(figsize=(4, 4))\n",
    "ax = fig.add_subplot(111)\n",
    "for word in ('USA', 'Tyskland', 'Norge', 'ett', u'två', 'tre', 'han', 'hon', u'från', 'till', '.', ',', '?'):\n",
    "    word_id = word_to_id[word]\n",
    "    ax.scatter(trans[word_id,0], trans[word_id,1], cmap=plt.cm.Spectral)\n",
    "    ax.annotate(word, xy=trans[word_id], fontsize=14, ha='right')\n"
   ]
  },
  {
   "cell_type": "markdown",
   "metadata": {
    "nbpresent": {
     "id": "d0065840-742e-4c75-be5f-eb17cc2a0c39"
    }
   },
   "source": [
    "Next, we'll load some Part-of-Speech (POS) data.\n",
    "We'll use a subset of the Swedish Universal Dependencies POS data."
   ]
  },
  {
   "cell_type": "code",
   "execution_count": 6,
   "metadata": {
    "collapsed": false,
    "nbpresent": {
     "id": "9dedda3e-2534-4f5c-beb2-bb852f6ccc69"
    }
   },
   "outputs": [],
   "source": [
    "train_X, train_y = read_ffnn_data('sv-ud-train-small.conllu')\n",
    "dev_X, dev_y = read_ffnn_data('sv-ud-dev-small.conllu')\n",
    "test_X, test_y = read_ffnn_data('sv-ud-test-small.conllu')\n",
    "\n",
    "vocab_size = len(word_to_vec)+1\n",
    "n_classes = len(tag_to_id)+1\n",
    "\n",
    "train_y_onehot = y_to_onehot(train_y, n_classes)\n",
    "dev_y_onehot = y_to_onehot(dev_y, n_classes)\n",
    "test_y_onehot = y_to_onehot(test_y, n_classes)"
   ]
  },
  {
   "cell_type": "markdown",
   "metadata": {},
   "source": [
    "Let's have a look at the data.\n",
    "Notice how the data is structured.\n",
    "Every instance in $X$ consists of a word-id corresponding to the word to be tagged.\n",
    "Every instance in $y$ consists of a tag-id corresponding to the tag, and y_onehot contains the one-hot mapping of these ids."
   ]
  },
  {
   "cell_type": "code",
   "execution_count": 7,
   "metadata": {
    "collapsed": false
   },
   "outputs": [
    {
     "name": "stdout",
     "output_type": "stream",
     "text": [
      "X: [10668]\n",
      "y: 4\n",
      "y-one-hot: [0 0 0 0 1 0 0 0 0 0 0 0 0 0 0 0 0 0 0 0]\n"
     ]
    }
   ],
   "source": [
    "# Inspecting the data structure:\n",
    "print('X: {0}'.format(train_X[0]))\n",
    "print('y: {0}'.format(train_y[0]))\n",
    "print('y-one-hot: {0}'.format(train_y_onehot[0]))"
   ]
  },
  {
   "cell_type": "raw",
   "metadata": {},
   "source": [
    "Let's have a look at the label distribution, and calculate a simple baseline.:"
   ]
  },
  {
   "cell_type": "code",
   "execution_count": 8,
   "metadata": {
    "collapsed": false,
    "nbpresent": {
     "id": "53c6a63b-76a6-46d9-a659-2ed8c9efa0c4"
    }
   },
   "outputs": [
    {
     "name": "stdout",
     "output_type": "stream",
     "text": [
      "('MFC baseline', 0.2561047603713841)\n"
     ]
    },
    {
     "data": {
      "image/png": "[encoded data removed]",
      "text/plain": [
       "<matplotlib.figure.Figure at 0x112265090>"
      ]
     },
     "metadata": {},
     "output_type": "display_data"
    }
   ],
   "source": [
    "from collections import Counter\n",
    "class_counts = Counter(train_y)\n",
    "\n",
    "classes = [pos_class for pos_class, idx in sorted(tag_to_id.items())]\n",
    "counts = [class_counts.get(tag_to_id[pos_class], 0) / float(len(train_y)) for pos_class in classes]\n",
    "\n",
    "plt.bar(range(len(counts)), counts, tick_label=classes)\n",
    "locs, labels = plt.xticks()\n",
    "plt.setp(labels, rotation=45)\n",
    "mfc_baseline = max(counts) / float(sum(counts))\n",
    "print('MFC baseline', mfc_baseline)"
   ]
  },
  {
   "cell_type": "markdown",
   "metadata": {
    "nbpresent": {
     "id": "08a7fa46-4bfb-4af6-8213-0d9ec3d99d04"
    }
   },
   "source": [
    "More than 25% of the data belongs to the 'NOUN' class. A simple baseline we can use is to assign this majority class to all instances in our test data. A more fair comparison is to compare with the most frequent class per type in the training data, rather than the training data as a whole. This is essentially what a Naïve Bayes classifier would do, given only unigram features."
   ]
  },
  {
   "cell_type": "code",
   "execution_count": 9,
   "metadata": {
    "collapsed": false,
    "nbpresent": {
     "id": "790398c0-cd62-420b-b279-a6085a7c2c8a"
    }
   },
   "outputs": [
    {
     "name": "stdout",
     "output_type": "stream",
     "text": [
      "('NB baseline', 0.77934272300469487)\n"
     ]
    }
   ],
   "source": [
    "from sklearn import naive_bayes\n",
    "clf = naive_bayes.MultinomialNB()\n",
    "clf.fit(y_to_onehot(train_X, vocab_size), train_y)\n",
    "nb_baseline = clf.score(y_to_onehot(dev_X, vocab_size), dev_y)\n",
    "print('NB baseline', nb_baseline)"
   ]
  },
  {
   "cell_type": "markdown",
   "metadata": {
    "nbpresent": {
     "id": "a1a8522f-6500-4d63-9b36-b342e665adf7"
    }
   },
   "source": [
    "Okay, that's a bit more challenging to beat!\n",
    "\n",
    "For our first experiments, we're using a simple type of Neural Networks: The Feed-Forward Neural Network (FFNN).\n",
    "\n",
    "In our case, the network will look something like this:\n",
    "<img src=\"files/ffnn.tiff\">\n",
    "\n",
    "This is defined in the next cell:"
   ]
  },
  {
   "cell_type": "code",
   "execution_count": 10,
   "metadata": {
    "collapsed": false,
    "nbpresent": {
     "id": "8d5b23b6-0c1f-4c62-a95d-d1772c699524"
    },
    "scrolled": true
   },
   "outputs": [],
   "source": [
    "from keras.models import Model\n",
    "from keras.layers import Input\n",
    "from keras.layers.core import Dense, Flatten\n",
    "from keras.layers.embeddings import Embedding\n",
    "\n",
    "def build_ffnn(n_layers, pretrained_embeddings):\n",
    "    '''\n",
    "    Build a simple Feed-Forward Neural Network.\n",
    "    '''\n",
    "    word_input = Input(shape=(1, ), dtype='int32', name='word_input') # One word at a time\n",
    "    \n",
    "    # Define our embedding input - pretrained or not\n",
    "    if pretrained_embeddings:\n",
    "        word_embedding = Embedding(vocab_size, dimensionality, input_length=1, weights=[embedding_weights])(word_input)\n",
    "    else:\n",
    "        word_embedding = Embedding(vocab_size, dimensionality, input_length=1)(word_input)\n",
    "    word_embedding = Flatten()(word_embedding)\n",
    "    \n",
    "    # Hidden layer(s)\n",
    "    layer_dim = dimensionality * 2\n",
    "    hidden = Dense(layer_dim)(word_embedding)\n",
    "    for n in range(n_layers-1):\n",
    "        hidden = Dense(layer_dim)(hidden)\n",
    "        layer_dim = int(layer_dim/2.0)\n",
    "    \n",
    "    # Output layer\n",
    "    model_output = Dense(n_classes, activation='softmax', name='main_output')(hidden)\n",
    "    model = Model(input=[word_input], output=[model_output])\n",
    "    \n",
    "    return model\n"
   ]
  },
  {
   "cell_type": "code",
   "execution_count": 11,
   "metadata": {
    "collapsed": true
   },
   "outputs": [],
   "source": [
    "def build_ffnn_from_scratch(pretrained_embeddings):\n",
    "    '''\n",
    "    Customise the FFNN using the blocks we've covered\n",
    "    '''\n",
    "    word_input = Input(shape=(1, ), dtype='int32', name='word_input') # One word at a time\n",
    "    \n",
    "    # Define our embedding input - pretrained or not\n",
    "    # If not using pretrained embeddings, try changing the dimensionality (under 'else')\n",
    "    if pretrained_embeddings:\n",
    "        word_embedding = Embedding(vocab_size, dimensionality, input_length=1, weights=[embedding_weights])(word_input)\n",
    "    else:\n",
    "        word_embedding = Embedding(vocab_size, dimensionality, input_length=1)(word_input)\n",
    "    word_embedding = Flatten()(word_embedding)\n",
    "    \n",
    "    # Hidden layer(s)\n",
    "    \n",
    "    # Try adding/using:\n",
    "    # Hidden layers of varying sizes\n",
    "    # Different activation functions\n",
    "    # Dropout\n",
    "    \n",
    "    # Output layer\n",
    "    model_output = Dense(n_classes, activation='softmax', name='main_output')(hidden)\n",
    "    model = Model(input=[word_input], output=[model_output])\n",
    "    \n",
    "    return model"
   ]
  },
  {
   "cell_type": "markdown",
   "metadata": {
    "nbpresent": {
     "id": "cf42fbb3-4450-4320-b4ec-cf12ff882138"
    }
   },
   "source": [
    "Try running the following block, and make a note of the results.\n",
    "\n",
    "Try changing some parameters (n layers, not using pretrained embeddings, n epochs) and see how things change.\n",
    "**Is going deeper better?**"
   ]
  },
  {
   "cell_type": "code",
   "execution_count": 12,
   "metadata": {
    "collapsed": false,
    "nbpresent": {
     "id": "653d700a-4c2f-4539-a13b-c7d30d297ffc"
    }
   },
   "outputs": [
    {
     "name": "stdout",
     "output_type": "stream",
     "text": [
      "____________________________________________________________________________________________________\n",
      "Layer (type)                     Output Shape          Param #     Connected to                     \n",
      "====================================================================================================\n",
      "word_input (InputLayer)          (None, 1)             0                                            \n",
      "____________________________________________________________________________________________________\n",
      "embedding_1 (Embedding)          (None, 1, 64)         849216      word_input[0][0]                 \n",
      "____________________________________________________________________________________________________\n",
      "flatten_1 (Flatten)              (None, 64)            0           embedding_1[0][0]                \n",
      "____________________________________________________________________________________________________\n",
      "dense_1 (Dense)                  (None, 128)           8320        flatten_1[0][0]                  \n",
      "____________________________________________________________________________________________________\n",
      "main_output (Dense)              (None, 20)            2580        dense_1[0][0]                    \n",
      "====================================================================================================\n",
      "Total params: 860116\n",
      "____________________________________________________________________________________________________\n"
     ]
    },
    {
     "name": "stderr",
     "output_type": "stream",
     "text": [
      "/Users/jbjerva/anaconda/lib/python2.7/site-packages/theano/gof/cc.py:948: UserWarning: Your g++ compiler fails to compile OpenMP code. We know this happen with some version of the EPD mingw compiler and LLVM compiler on Mac OS X. We disable openmp everywhere in Theano. To remove this warning set the theano flags `openmp` to False.\n",
      "  ret += x.c_compile_args()\n"
     ]
    },
    {
     "name": "stdout",
     "output_type": "stream",
     "text": [
      "Train on 18633 samples, validate on 1917 samples\n",
      "Epoch 1/10\n",
      "0s - loss: 2.4645 - acc: 0.3762 - val_loss: 2.0936 - val_acc: 0.4940\n",
      "Epoch 2/10\n",
      "0s - loss: 1.7489 - acc: 0.6058 - val_loss: 1.6161 - val_acc: 0.5952\n",
      "Epoch 3/10\n",
      "0s - loss: 1.3779 - acc: 0.6741 - val_loss: 1.3121 - val_acc: 0.7011\n",
      "Epoch 4/10\n",
      "0s - loss: 1.1421 - acc: 0.7432 - val_loss: 1.1100 - val_acc: 0.7491\n",
      "Epoch 5/10\n",
      "0s - loss: 0.9861 - acc: 0.7866 - val_loss: 0.9710 - val_acc: 0.7846\n",
      "Epoch 6/10\n",
      "0s - loss: 0.8783 - acc: 0.8103 - val_loss: 0.8707 - val_acc: 0.8033\n",
      "Epoch 7/10\n",
      "0s - loss: 0.7999 - acc: 0.8172 - val_loss: 0.7953 - val_acc: 0.8138\n",
      "Epoch 8/10\n",
      "0s - loss: 0.7406 - acc: 0.8205 - val_loss: 0.7366 - val_acc: 0.8190\n",
      "Epoch 9/10\n",
      "0s - loss: 0.6940 - acc: 0.8329 - val_loss: 0.6882 - val_acc: 0.8440\n",
      "Epoch 10/10\n",
      "0s - loss: 0.6565 - acc: 0.8372 - val_loss: 0.6505 - val_acc: 0.8451\n",
      "Evaluation - test_loss: 0.7160 - test_acc: 0.7999\n"
     ]
    }
   ],
   "source": [
    "n_epochs = 10                # Number of epochs\n",
    "n_layers = 1                 # Number of hidden layers\n",
    "pretrained_embeddings = True # Using pretrained embeddings (True/False)\n",
    "\n",
    "# Build and compile the model, defining optimiser, loss function and metrics\n",
    "model = build_ffnn(n_layers, pretrained_embeddings)\n",
    "#model = build_ffnn_from_scratch(pretrained_embeddings)\n",
    "model.compile(optimizer='sgd', # Try different optimisers (sgd, adam, nadam, adagrad)\n",
    "             loss='categorical_crossentropy',\n",
    "             metrics=['accuracy'])\n",
    "model.summary()\n",
    "\n",
    "# Train and evaluate our model!\n",
    "model.fit(train_X, train_y_onehot, validation_data=(dev_X, dev_y_onehot), nb_epoch=n_epochs, batch_size=100, verbose=2);\n",
    "ffnn_loss, ffnn_accuracy = model.evaluate(test_X, test_y_onehot, batch_size=100, verbose=2)\n",
    "print('Evaluation - test_loss: {0:.4f} - test_acc: {1:.4f}'.format(ffnn_loss, ffnn_accuracy))"
   ]
  },
  {
   "cell_type": "markdown",
   "metadata": {
    "nbpresent": {
     "id": "b4a0dc32-b95e-4558-a39c-4e1b9fffe987"
    }
   },
   "source": [
    "Using pre-trained embeddings, you should have gotten a test accuracy of above 80%.\n",
    "Not too bad, considering the fact that we're not using any context!\n",
    "\n",
    "Now, let's do a small error analysis:"
   ]
  },
  {
   "cell_type": "code",
   "execution_count": 13,
   "metadata": {
    "collapsed": false,
    "nbpresent": {
     "id": "e8a83ab0-c3f3-47e6-b303-b1ea55600740"
    }
   },
   "outputs": [
    {
     "name": "stdout",
     "output_type": "stream",
     "text": [
      "SNT: [u'Det', u'k\\xe4nns', u'riktigt', u'att', u'ha', u'ett', u'riktigt', u'yrke', u'.']\n",
      "POS: [u'PRON', u'VERB', u'ADV', u'PART', u'VERB', u'DET', u'ADV', u'NOUN', u'PUNCT']\n",
      "UNK: [False, False, False, False, False, False, False, False, False]\n"
     ]
    }
   ],
   "source": [
    "def ffnn_predict_sentence(sent, model):\n",
    "    '''Print the FFNN's prediction on a sequence.'''\n",
    "    word_ids = [word_to_id.get(word, word_to_id['_UNK']) for word in sent]\n",
    "    preds = model.predict_on_batch(word_ids)\n",
    "    pred_pos = [tag for pred in preds for tag, tag_id in tag_to_id.items() if tag_id == np.argmax(pred)]\n",
    "    print('SNT: {0}'.format(sent))\n",
    "    print('POS: {0}\\nUNK: {1}'.format(pred_pos, [idx==word_to_id['_UNK'] for idx in word_ids]))\n",
    "    \n",
    "\n",
    "sent = u'Det känns riktigt att ha ett riktigt yrke .'.split()\n",
    "ffnn_predict_sentence(sent, model)"
   ]
  },
  {
   "cell_type": "markdown",
   "metadata": {},
   "source": [
    "Since no context is used, the two instances of 'riktigt' incorrectly receive the same class (should be ADV, ADJ)."
   ]
  },
  {
   "cell_type": "markdown",
   "metadata": {},
   "source": [
    "## Where do the weights come from?\n",
    "\n",
    "<img src=\"files/mountains.jpg\">\n",
    "\n",
    "https://keras.io/optimizers/"
   ]
  },
  {
   "cell_type": "markdown",
   "metadata": {},
   "source": [
    "<img src=\"files/sgd.gif\">"
   ]
  },
  {
   "cell_type": "markdown",
   "metadata": {},
   "source": [
    "## How about overfitting?\n",
    "\n",
    "* Neural networks are robust!\n",
    "* Dropout: https://keras.io/layers/core/#dropout"
   ]
  },
  {
   "cell_type": "markdown",
   "metadata": {},
   "source": [
    "## How to successfully train a deep network\n",
    "\n",
    "* Activation functions: ReLu\n",
    "* Regularisation: Dropout\n",
    "* Normalisation (BatchNormalization)\n",
    "* Modern optimiser (e.g. (n)adam)\n",
    "* **Train on a GPU**"
   ]
  },
  {
   "cell_type": "markdown",
   "metadata": {},
   "source": [
    "<img src=\"files/flowchart.png\">"
   ]
  },
  {
   "cell_type": "markdown",
   "metadata": {
    "nbpresent": {
     "id": "1542954c-3b0d-4a9e-b51a-0797fb9ad948"
    }
   },
   "source": [
    "## Context in 'time': Recurrent Neural Networks\n",
    "\n",
    "Using an FFNN is often sufficient, but incorporating context information (of varying lengths) is problematic.\n",
    "\n",
    "A solution to this, is to use Recurrent Neural Networks.\n",
    "\n",
    "<img src=\"files/rnn.tiff\">"
   ]
  },
  {
   "cell_type": "markdown",
   "metadata": {},
   "source": [
    "For shorter contexts, a 'standard' RNN is enough.\n",
    "\n",
    "<img src=\"files/rnn_shortdep.tiff\">"
   ]
  },
  {
   "cell_type": "markdown",
   "metadata": {},
   "source": [
    "For longer contexts, however, 'deep' types of RNNs are necessary:\n",
    "\n",
    "* LSTMs (Long Short-Term Memory) and GRUs (Gated Recurrent Units)\n",
    "\n",
    "<img src=\"files/rnn_longdep.tiff\">"
   ]
  },
  {
   "cell_type": "markdown",
   "metadata": {},
   "source": [
    "First, we'll need to read in the data and convert it to a different format.\n",
    "Whereas we used a simple 'one word, one label' format for the FFNN, we now need a format corresponding to a sentence with tags."
   ]
  },
  {
   "cell_type": "code",
   "execution_count": 14,
   "metadata": {
    "collapsed": true
   },
   "outputs": [],
   "source": [
    "def read_rnn_data(fname, delimiter='\\t'):\n",
    "    '''\n",
    "    Read data from a tsv file with format: <word<TAB>tag<NEWLINE>,\n",
    "    and blank lines between each sentence.\n",
    "    '''\n",
    "    X, y = [], []\n",
    "    with open(fname, 'r', encoding='utf-8') as in_f:\n",
    "        curr_X, curr_y = [word_to_id['<w>']], [tag_to_id['<w>']]\n",
    "        for line in in_f:\n",
    "            if len(line) <= 2: # i.e. newline\n",
    "                if curr_X and curr_y:\n",
    "                    if len(curr_X) <= 20:\n",
    "                        curr_X.append(word_to_id['</w>'])\n",
    "                        curr_y.append(tag_to_id['</w>'])\n",
    "                        X.append(curr_X)\n",
    "                        y.append(curr_y)\n",
    "                    curr_X = [word_to_id['<w>']]\n",
    "                    curr_y = [tag_to_id['<w>']]\n",
    "                continue\n",
    "            word, tag = line.strip().split(delimiter)\n",
    "            curr_X.append(word_to_id.get(word, word_to_id['_UNK']))\n",
    "            curr_y.append(tag_to_id[tag])\n",
    "            \n",
    "    # Catch last line\n",
    "    if X and y:\n",
    "        curr_X.append(word_to_id['</w>'])\n",
    "        curr_y.append(tag_to_id['</w>'])\n",
    "        X.append(curr_X)\n",
    "        y.append(curr_y)\n",
    "            \n",
    "    return X, y\n",
    "\n",
    "def y_to_onehot_rnn(y):\n",
    "    y_onehot = np.zeros((len(y), max_sent_len, n_classes), dtype=np.int32)\n",
    "    for idx, sentence in enumerate(y):\n",
    "        for idy, tag in enumerate(sentence):\n",
    "            if idy >= max_sent_len: break\n",
    "            y_onehot[idx, idy+(max_sent_len-len(sentence)), tag] = 1\n",
    "                        \n",
    "    return y_onehot"
   ]
  },
  {
   "cell_type": "markdown",
   "metadata": {},
   "source": [
    "\n",
    "We also need to specify a maximum sentence length to consider - to keep things running on CPUs in a reasonable time, we'll restrict ourselves to sentences of 20 words or less.\n",
    "Sentences shorter than this length, will be padded with special 'padding' values.\n",
    "We'll also use special symbols to indicate the beginning / end of a sentence."
   ]
  },
  {
   "cell_type": "code",
   "execution_count": 15,
   "metadata": {
    "collapsed": false,
    "nbpresent": {
     "id": "4b72058c-b3c5-4c30-97f1-b5912e98a637"
    }
   },
   "outputs": [],
   "source": [
    "from keras import backend as K\n",
    "from keras.preprocessing import sequence\n",
    "\n",
    "train_X_rnn, train_y_rnn = read_rnn_data('sv-ud-train.conllu')\n",
    "dev_X_rnn, dev_y_rnn = read_rnn_data('sv-ud-dev.conllu')\n",
    "test_X_rnn, test_y_rnn = read_rnn_data('sv-ud-test-small.conllu')\n",
    "\n",
    "max_sent_len = 20#max(len(sent) for sent in train_X)\n",
    "vocab_size = len(word_to_vec)+1\n",
    "n_classes = len(tag_to_id)+1\n",
    "\n",
    "train_y_rnn = y_to_onehot_rnn(train_y_rnn)\n",
    "dev_y_rnn = y_to_onehot_rnn(dev_y_rnn)\n",
    "test_y_rnn = y_to_onehot_rnn(test_y_rnn)\n",
    "\n",
    "train_X_rnn = sequence.pad_sequences(train_X_rnn, maxlen=max_sent_len, dtype=np.int32, value=word_to_id['<PAD>'])\n",
    "dev_X_rnn = sequence.pad_sequences(dev_X_rnn, maxlen=max_sent_len, dtype=np.int32, value=word_to_id['<PAD>'])\n",
    "test_X_rnn = sequence.pad_sequences(test_X_rnn, maxlen=max_sent_len, dtype=np.int32, value=word_to_id['<PAD>'])\n"
   ]
  },
  {
   "cell_type": "markdown",
   "metadata": {},
   "source": [
    "Have a look at how the data is now formatted.\n",
    "Notice that every training instance now represents a whole sentence, with 'padding' values for indices where we don't have any word (i.e. for sentences shorter than 20 words)."
   ]
  },
  {
   "cell_type": "code",
   "execution_count": 16,
   "metadata": {
    "collapsed": false,
    "nbpresent": {
     "id": "4c1ae737-8b70-47cd-b040-d374af46b9a9"
    }
   },
   "outputs": [
    {
     "name": "stdout",
     "output_type": "stream",
     "text": [
      "[[0 0 0 0 0 0 0 0 0 0 0 0 0 0 0 0 0 0 0 0]\n",
      " [0 0 0 0 0 0 0 0 0 0 0 0 0 0 0 0 0 0 0 0]\n",
      " [0 0 0 0 0 0 0 0 0 0 0 0 0 0 0 0 0 0 0 0]\n",
      " [0 0 0 0 0 0 0 0 0 0 0 0 0 0 0 0 0 0 0 0]\n",
      " [0 0 0 0 0 0 0 0 0 0 0 0 0 0 0 0 0 0 0 0]\n",
      " [0 0 0 0 0 0 0 0 0 0 0 0 0 0 0 0 0 0 0 0]\n",
      " [0 0 0 0 0 0 0 0 0 0 0 0 0 0 0 0 0 0 0 0]\n",
      " [0 0 0 0 0 0 0 0 0 0 0 0 0 0 0 0 0 0 0 0]\n",
      " [0 0 0 0 0 0 0 0 0 0 0 0 0 0 0 0 0 0 0 0]\n",
      " [0 0 0 0 0 0 0 0 0 0 0 0 0 0 0 0 0 0 0 0]\n",
      " [0 0 0 0 0 0 0 0 0 0 0 0 0 0 0 0 0 0 0 0]\n",
      " [0 0 0 0 0 0 0 0 0 0 0 0 0 0 0 0 0 0 0 0]\n",
      " [0 0 0 0 0 0 0 0 0 0 0 0 0 0 0 0 0 0 0 0]\n",
      " [0 0 0 0 0 0 0 0 0 0 0 0 0 0 0 0 0 0 0 0]\n",
      " [0 1 0 0 0 0 0 0 0 0 0 0 0 0 0 0 0 0 0 0]\n",
      " [0 0 0 0 1 0 0 0 0 0 0 0 0 0 0 0 0 0 0 0]\n",
      " [0 0 0 0 0 1 0 0 0 0 0 0 0 0 0 0 0 0 0 0]\n",
      " [0 0 0 0 0 0 1 0 0 0 0 0 0 0 0 0 0 0 0 0]\n",
      " [0 0 0 0 0 1 0 0 0 0 0 0 0 0 0 0 0 0 0 0]\n",
      " [0 0 1 0 0 0 0 0 0 0 0 0 0 0 0 0 0 0 0 0]]\n",
      "[    3     3     3     3     3     3     3     3     3     3     3     3\n",
      "     3     3     1 10668  7379     9     4     2]\n"
     ]
    }
   ],
   "source": [
    "print(train_y_rnn[0])\n",
    "print(train_X_rnn[0])"
   ]
  },
  {
   "cell_type": "code",
   "execution_count": 17,
   "metadata": {
    "collapsed": true
   },
   "outputs": [],
   "source": [
    "def actual_accuracy(act, pred):\n",
    "    '''\n",
    "    Calculate accuracy each batch.\n",
    "    Keras' standard calculation factors in our padding classes. We don't.\n",
    "    '''\n",
    "    act_argm  = K.argmax(act, axis=-1)   # Indices of act. classes\n",
    "    pred_argm = K.argmax(pred, axis=-1)  # Indices of pred. classes\n",
    "\n",
    "    incorrect = K.cast(K.not_equal(act_argm, pred_argm), dtype='float32')\n",
    "    correct   = K.cast(K.equal(act_argm, pred_argm), dtype='float32')\n",
    "    padding   = K.cast(K.equal(K.sum(act), 0), dtype='float32')\n",
    "    start     = K.cast(K.equal(act_argm, 0), dtype='float32')\n",
    "    end       = K.cast(K.equal(act_argm, 1), dtype='float32')\n",
    "\n",
    "    pad_start     = K.maximum(padding, start)\n",
    "    pad_start_end = K.maximum(pad_start, end) # 1 where pad, start or end\n",
    "\n",
    "    # Subtract pad_start_end from correct, then check equality to 1\n",
    "    # E.g.: act: [pad, pad, pad, <s>, tag, tag, tag, </s>]\n",
    "    #      pred: [pad, tag, pad, <s>, tag, tag, err, </s>]\n",
    "    #   correct: [1,     0,   1,   1,   1,   1,   0,    1]\n",
    "    #     p_s_e: [1,     1,   1,   1,,  0,   0,   0,    1]\n",
    "    #  corr-pse: [0,    -1,   0,   0,   1,   1,   0,    0] # Subtraction\n",
    "    # actu_corr: [0,     0,   0,   0,   1,   1,   0,    0] # Check equality to 1\n",
    "    corr_preds   = K.sum(K.cast(K.equal(correct - pad_start_end, 1), dtype='float32'))\n",
    "    incorr_preds = K.sum(K.cast(K.equal(incorrect - pad_start_end, 1), dtype='float32'))\n",
    "    total = corr_preds + incorr_preds\n",
    "    accuracy = corr_preds / total\n",
    "\n",
    "    return accuracy"
   ]
  },
  {
   "cell_type": "code",
   "execution_count": 18,
   "metadata": {
    "collapsed": false,
    "nbpresent": {
     "id": "c7940def-8980-4383-b844-c677080cc1ac"
    }
   },
   "outputs": [],
   "source": [
    "from keras.models import Model\n",
    "from keras.layers import Input, LSTM, GRU, SimpleRNN, merge, BatchNormalization\n",
    "from keras.layers.core import Dropout\n",
    "from keras.layers.embeddings import Embedding\n",
    "from keras.layers.wrappers import TimeDistributed\n",
    "from keras.callbacks import EarlyStopping\n",
    "\n",
    "def build_rnn(bidirectional, pretrained_embeddings, rnn_type, fancy, deep):\n",
    "    '''\n",
    "    Build a Recurrent Neural Network.\n",
    "    '''\n",
    "    word_input = Input(shape=(max_sent_len, ), dtype='int32', name='word_input') # One sentence at a time\n",
    "    if pretrained_embeddings:\n",
    "        word_embedding = Embedding(vocab_size, dimensionality, \n",
    "                                   input_length=max_sent_len, weights=[embedding_weights])(word_input)\n",
    "    else:\n",
    "        word_embedding = Embedding(vocab_size, dimensionality, \n",
    "                                   input_length=max_sent_len)(word_input)\n",
    "    \n",
    "    if fancy:\n",
    "        word_embedding = Dropout(0.4)(word_embedding)\n",
    "        word_embedding = BatchNormalization(mode=1)(word_embedding)\n",
    "    \n",
    "    if bidirectional:\n",
    "        forward = rnn_type(output_dim=128, return_sequences=True, \n",
    "                           dropout_W=fancy*0.5, go_backwards=False)(word_embedding)\n",
    "        backward = rnn_type(output_dim=128, return_sequences=True, \n",
    "                            dropout_W=fancy*0.5, go_backwards=True)(word_embedding)\n",
    "        rnn = merge([forward, backward], mode='concat')\n",
    "        if deep:\n",
    "            if fancy:\n",
    "                rnn = Dropout(0.4)(rnn)\n",
    "                rnn = BatchNormalization(mode=1)(rnn)\n",
    "            forward = rnn_type(output_dim=128, return_sequences=True, \n",
    "                               dropout_W=fancy*0.5, go_backwards=False)(rnn)\n",
    "            backward = rnn_type(output_dim=128, return_sequences=True, \n",
    "                                dropout_W=fancy*0.5, go_backwards=True)(rnn)\n",
    "            rnn = merge([forward, backward], mode='concat')\n",
    "    else:\n",
    "        rnn = rnn_type(output_dim=128, dropout_W=fancy*0.5, return_sequences=True)(word_embedding)\n",
    "        if deep:\n",
    "            rnn = rnn_type(output_dim=128, dropout_W=fancy*0.5, return_sequences=True)(rnn)\n",
    "    \n",
    "    if fancy:\n",
    "        rnn = Dropout(0.4)(rnn)\n",
    "        rnn = BatchNormalization(mode=1)(rnn)\n",
    "        \n",
    "    if fancy:\n",
    "        hidden = TimeDistributed(Dense(n_classes, activation='relu', name='extra_hidden'))(rnn)\n",
    "    else:\n",
    "        hidden = TimeDistributed(Dense(n_classes, activation='sigmoid', name='extra_hidden'))(rnn)\n",
    "    \n",
    "    model_output = TimeDistributed(Dense(n_classes, activation='softmax', name='main_output'))(hidden)\n",
    "    model = Model(input=[word_input], output=[model_output])\n",
    "    \n",
    "    return model\n"
   ]
  },
  {
   "cell_type": "code",
   "execution_count": 19,
   "metadata": {
    "collapsed": true
   },
   "outputs": [],
   "source": [
    "from keras.models import Model\n",
    "from keras.layers import Input, LSTM, GRU, SimpleRNN, merge, BatchNormalization\n",
    "from keras.layers.core import Dropout\n",
    "from keras.layers.embeddings import Embedding\n",
    "from keras.layers.wrappers import TimeDistributed\n",
    "from keras.callbacks import EarlyStopping\n",
    "\n",
    "def build_rnn_fromscratch(pretrained_embeddings):\n",
    "    '''\n",
    "    Build a customised Recurrent Neural Network.\n",
    "    '''\n",
    "    word_input = Input(shape=(max_sent_len, ), dtype='int32', name='word_input') # One sentence at a time\n",
    "    if pretrained_embeddings:\n",
    "        word_embedding = Embedding(vocab_size, dimensionality, \n",
    "                                   input_length=max_sent_len, weights=[embedding_weights])(word_input)\n",
    "    else:\n",
    "        word_embedding = Embedding(vocab_size, dimensionality, \n",
    "                                   input_length=max_sent_len)(word_input)\n",
    "    \n",
    "    # Hidden layer(s) of your RNN\n",
    "    \n",
    "    # Try adding/using:\n",
    "    # Hidden layers of varying sizes and types\n",
    "    # Different activation functions\n",
    "    # Dropout\n",
    "    # Batch normalisation\n",
    "    \n",
    "    model_output = TimeDistributed(Dense(n_classes, activation='softmax', name='main_output'))(hidden)\n",
    "    model = Model(input=[word_input], output=[model_output])\n",
    "    \n",
    "    return model\n",
    "\n"
   ]
  },
  {
   "cell_type": "markdown",
   "metadata": {
    "nbpresent": {
     "id": "8b8a64ae-caeb-4f6b-b1ef-3aac6dcbe9ff"
    }
   },
   "source": [
    "Try running the following block, and make a note of the results.\n",
    "\n",
    "Try changing some parameters again (bidirectional RNN, type of RNN, going deep, using 'fancy' stuff) and see how things change."
   ]
  },
  {
   "cell_type": "code",
   "execution_count": 20,
   "metadata": {
    "collapsed": false,
    "nbpresent": {
     "id": "837be21c-cdf0-4768-94d3-fced4e38abe2"
    },
    "scrolled": true
   },
   "outputs": [
    {
     "name": "stdout",
     "output_type": "stream",
     "text": [
      "____________________________________________________________________________________________________\n",
      "Layer (type)                     Output Shape          Param #     Connected to                     \n",
      "====================================================================================================\n",
      "word_input (InputLayer)          (None, 20)            0                                            \n",
      "____________________________________________________________________________________________________\n",
      "embedding_2 (Embedding)          (None, 20, 64)        849216      word_input[0][0]                 \n",
      "____________________________________________________________________________________________________\n",
      "simplernn_1 (SimpleRNN)          (None, 20, 128)       24704       embedding_2[0][0]                \n",
      "____________________________________________________________________________________________________\n",
      "simplernn_2 (SimpleRNN)          (None, 20, 128)       24704       embedding_2[0][0]                \n",
      "____________________________________________________________________________________________________\n",
      "merge_1 (Merge)                  (None, 20, 256)       0           simplernn_1[0][0]                \n",
      "                                                                   simplernn_2[0][0]                \n",
      "____________________________________________________________________________________________________\n",
      "timedistributed_1 (TimeDistribute(None, 20, 20)        5140        merge_1[0][0]                    \n",
      "____________________________________________________________________________________________________\n",
      "timedistributed_2 (TimeDistribute(None, 20, 20)        420         timedistributed_1[0][0]          \n",
      "====================================================================================================\n",
      "Total params: 904184\n",
      "____________________________________________________________________________________________________\n",
      "Train on 3151 samples, validate on 305 samples\n",
      "Epoch 1/10\n",
      "3s - loss: 1.0552 - actual_accuracy: 0.5847 - val_loss: 0.6494 - val_actual_accuracy: 0.8034\n",
      "Epoch 2/10\n",
      "3s - loss: 0.4135 - actual_accuracy: 0.8697 - val_loss: 0.3492 - val_actual_accuracy: 0.8737\n",
      "Epoch 3/10\n",
      "4s - loss: 0.2519 - actual_accuracy: 0.8999 - val_loss: 0.2652 - val_actual_accuracy: 0.8965\n",
      "Epoch 4/10\n",
      "3s - loss: 0.1891 - actual_accuracy: 0.9205 - val_loss: 0.2399 - val_actual_accuracy: 0.8976\n",
      "Epoch 5/10\n",
      "3s - loss: 0.1539 - actual_accuracy: 0.9362 - val_loss: 0.2227 - val_actual_accuracy: 0.8970\n",
      "Epoch 6/10\n",
      "3s - loss: 0.1291 - actual_accuracy: 0.9446 - val_loss: 0.2227 - val_actual_accuracy: 0.8986\n",
      "Epoch 7/10\n",
      "3s - loss: 0.1096 - actual_accuracy: 0.9536 - val_loss: 0.2128 - val_actual_accuracy: 0.9020\n",
      "Epoch 8/10\n",
      "3s - loss: 0.0941 - actual_accuracy: 0.9604 - val_loss: 0.2258 - val_actual_accuracy: 0.8957\n",
      "Epoch 9/10\n",
      "3s - loss: 0.0813 - actual_accuracy: 0.9662 - val_loss: 0.2193 - val_actual_accuracy: 0.9006\n",
      "Epoch 10/10\n",
      "3s - loss: 0.0686 - actual_accuracy: 0.9714 - val_loss: 0.2306 - val_actual_accuracy: 0.8965\n",
      "Evaluation - test_loss: 0.2311 - test_acc: 0.8852\n"
     ]
    }
   ],
   "source": [
    "n_epochs              = 10    # Number of epochs\n",
    "bidirectional         = True # Using bidirectional (True/False)\n",
    "pretrained_embeddings = True  # Using pretrained embeddings (True/False)\n",
    "rnn_type              = SimpleRNN  # One out of: SimpleRNN, GRU, LSTM\n",
    "fancy                 = False # Use modern stuff (True/False) (Adds: Dropout, BatchNormalisation, ReLu)\n",
    "deep                  = False # Add another layer of recurrent connections\n",
    "\n",
    "\n",
    "model = build_rnn(bidirectional, pretrained_embeddings, rnn_type, fancy, deep)\n",
    "#model = build_rnn_fromscratch(pretrained_embeddings)\n",
    "model.compile(optimizer='adam',\n",
    "             loss='categorical_crossentropy',\n",
    "             metrics=[actual_accuracy,])\n",
    "model.summary()\n",
    "\n",
    "model.fit(train_X_rnn, train_y_rnn, validation_data=(dev_X_rnn, dev_y_rnn), nb_epoch=n_epochs, batch_size=10, verbose=2, callbacks=[EarlyStopping(monitor='val_loss', patience=2)]);\n",
    "rnn_loss, rnn_accuracy = model.evaluate(test_X_rnn, test_y_rnn, batch_size=10, verbose=2)\n",
    "print('Evaluation - test_loss: {0:.4f} - test_acc: {1:.4f}'.format(rnn_loss, rnn_accuracy))"
   ]
  },
  {
   "cell_type": "markdown",
   "metadata": {
    "nbpresent": {
     "id": "b0b1e4ac-f411-4080-a93e-250e6722df16"
    }
   },
   "source": [
    "You should be able to get somewhere around 90 - 92% accuracy on both dev and test.\n",
    "That's an error reduction of about 50% compared to a standard FFNN!\n",
    "\n",
    "Let's do the same error analysis as in the previous case:"
   ]
  },
  {
   "cell_type": "code",
   "execution_count": 21,
   "metadata": {
    "collapsed": false,
    "nbpresent": {
     "id": "f5fbbb43-aa33-4a61-b669-37a890079fcd"
    }
   },
   "outputs": [
    {
     "name": "stdout",
     "output_type": "stream",
     "text": [
      "SNT: [u'Det', u'k\\xe4nns', u'riktigt', u'att', u'ha', u'ett', u'riktigt', u'yrke', u'.']\n",
      "POS: [u'PRON', u'VERB', u'ADV', u'PART', u'VERB', u'DET', u'ADJ', u'NOUN', u'PUNCT']\n",
      " UNK:[False, False, False, False, False, False, False, False, False]\n"
     ]
    }
   ],
   "source": [
    "def rnn_predict_sentence(sent, model):\n",
    "    word_ids = [word_to_id.get(word, word_to_id['_UNK']) for word in sent]\n",
    "    padded = sequence.pad_sequences([word_ids], maxlen=max_sent_len, dtype=np.int32, value=word_to_id['<PAD>'])\n",
    "    preds = model.predict_on_batch(padded)\n",
    "    pred_pos = [tag for pred in preds[0] for tag, tag_id in tag_to_id.items() if tag_id == np.argmax(pred)]\n",
    "    print('SNT: {0}'.format(sent))\n",
    "    print('POS: {0}\\n UNK:{1}'.format(pred_pos[-len(sent):], [idx==word_to_id['_UNK'] for idx in word_ids]))\n",
    "    \n",
    "sent = u'Det känns riktigt att ha ett riktigt yrke .'.split()\n",
    "rnn_predict_sentence(sent, model)"
   ]
  },
  {
   "cell_type": "markdown",
   "metadata": {
    "nbpresent": {
     "id": "021d56d7-cffd-420f-b592-653c62a2e85b"
    }
   },
   "source": [
    "We now get both types of 'riktigt' right, thanks to the RNN taking advantage of context.\n",
    "\n",
    "Let's also have a look at our results (ffnn and rnn), compared to the two baselines (mfc and nb)."
   ]
  },
  {
   "cell_type": "code",
   "execution_count": 22,
   "metadata": {
    "collapsed": false,
    "nbpresent": {
     "id": "aa9fddc0-4baa-4622-a098-2694b763276b"
    },
    "scrolled": false
   },
   "outputs": [
    {
     "data": {
      "image/png": "[encoded data removed]",
      "text/plain": [
       "<matplotlib.figure.Figure at 0x11e8fef10>"
      ]
     },
     "metadata": {},
     "output_type": "display_data"
    }
   ],
   "source": [
    "names = ['mfc', 'nb', 'ffnn', 'rnn']\n",
    "results = [mfc_baseline, nb_baseline, ffnn_accuracy, rnn_accuracy]\n",
    "plt.bar(range(len(results)), results, tick_label=names);"
   ]
  },
  {
   "cell_type": "markdown",
   "metadata": {},
   "source": [
    "**If you have any questions about neural networks or Keras in the future, don't hesitate to ask!**\n",
    "\n",
    "Interesting things to try out later:\n",
    "* Character-based input\n",
    "* Multiple outputs (i.e. *auxiliary tasks*)\n",
    "* Several languages in one model"
   ]
  },
  {
   "cell_type": "code",
   "execution_count": null,
   "metadata": {
    "collapsed": true
   },
   "outputs": [],
   "source": []
  }
 ],
 "metadata": {
  "anaconda-cloud": {},
  "kernelspec": {
   "display_name": "Python [Root]",
   "language": "python",
   "name": "Python [Root]"
  },
  "language_info": {
   "codemirror_mode": {
    "name": "ipython",
    "version": 2
   },
   "file_extension": ".py",
   "mimetype": "text/x-python",
   "name": "python",
   "nbconvert_exporter": "python",
   "pygments_lexer": "ipython2",
   "version": "2.7.12"
  },
  "nbpresent": {
   "slides": {
    "055502f9-30a4-4926-bc06-6bf6150ff380": {
     "id": "055502f9-30a4-4926-bc06-6bf6150ff380",
     "prev": "3ad4d361-41b0-4af6-9636-0db382095538",
     "regions": {
      "be0062aa-8ef0-4364-8615-136e6762a672": {
       "attrs": {
        "height": 0.8,
        "width": 0.8,
        "x": 0.1,
        "y": 0.1
       },
       "content": {
        "cell": "aa9fddc0-4baa-4622-a098-2694b763276b",
        "part": "whole"
       },
       "id": "be0062aa-8ef0-4364-8615-136e6762a672"
      }
     }
    },
    "1004bbe9-cab8-489b-b603-d3a495acb0e2": {
     "id": "1004bbe9-cab8-489b-b603-d3a495acb0e2",
     "prev": "504d977c-6fbc-4792-8d18-913bae597472",
     "regions": {
      "6390aca3-3177-4134-a4c5-cb17e66fcd1c": {
       "attrs": {
        "height": 0.8,
        "width": 0.8,
        "x": 0.1,
        "y": 0.1
       },
       "content": {
        "cell": "d9f6d0b7-36e0-465f-82e5-ee807081db66",
        "part": "whole"
       },
       "id": "6390aca3-3177-4134-a4c5-cb17e66fcd1c"
      }
     }
    },
    "10a6a4e3-9e4b-4ab0-85c0-299f43a252fb": {
     "id": "10a6a4e3-9e4b-4ab0-85c0-299f43a252fb",
     "prev": "88fcbb3f-a018-41b2-ad18-9b85f0f7b032",
     "regions": {
      "ae4c5786-cb10-40ef-b426-432c5e00e9e6": {
       "attrs": {
        "height": 0.8,
        "width": 0.8,
        "x": 0.1,
        "y": 0.1
       },
       "content": {
        "cell": "d2bcd0f0-6a46-467e-9ba2-9238e6b765d6",
        "part": "whole"
       },
       "id": "ae4c5786-cb10-40ef-b426-432c5e00e9e6"
      }
     }
    },
    "138d48b9-1cc2-490d-a1a2-f2b94a3573f7": {
     "id": "138d48b9-1cc2-490d-a1a2-f2b94a3573f7",
     "prev": "add4e103-afd4-4516-b736-cf54f67ab5ac",
     "regions": {
      "341f6ed0-8058-4a12-a6aa-98a906b414e2": {
       "attrs": {
        "height": 0.8,
        "width": 0.8,
        "x": 0.1,
        "y": 0.1
       },
       "content": {
        "cell": "30e3ab39-33ec-4cc9-8cbe-2f5166229978",
        "part": "whole"
       },
       "id": "341f6ed0-8058-4a12-a6aa-98a906b414e2"
      }
     }
    },
    "186f9f71-992d-458a-8943-6e7f52461ab5": {
     "id": "186f9f71-992d-458a-8943-6e7f52461ab5",
     "prev": "c56759a9-c49d-4579-bf2c-309203bf7b10",
     "regions": {
      "8d7d391f-fd17-4f12-8a44-e3b436528134": {
       "attrs": {
        "height": 0.8,
        "width": 0.8,
        "x": 0.1,
        "y": 0.1
       },
       "content": {
        "cell": "b4a0dc32-b95e-4558-a39c-4e1b9fffe987",
        "part": "whole"
       },
       "id": "8d7d391f-fd17-4f12-8a44-e3b436528134"
      }
     }
    },
    "236972d8-7447-42bf-8d5b-79fdfcb3914d": {
     "id": "236972d8-7447-42bf-8d5b-79fdfcb3914d",
     "prev": "93ee3acd-20c0-4bd8-aa7a-7e01d8a1ee49",
     "regions": {
      "375db0cb-baf7-40e8-ab56-da2806e42021": {
       "attrs": {
        "height": 0.8,
        "width": 0.8,
        "x": 0.1,
        "y": 0.1
       },
       "content": {
        "cell": "08a7fa46-4bfb-4af6-8213-0d9ec3d99d04",
        "part": "whole"
       },
       "id": "375db0cb-baf7-40e8-ab56-da2806e42021"
      }
     }
    },
    "2975c44e-39b1-482e-b710-56926b57e930": {
     "id": "2975c44e-39b1-482e-b710-56926b57e930",
     "prev": "236972d8-7447-42bf-8d5b-79fdfcb3914d",
     "regions": {
      "7ada09c0-0ecb-4510-952b-86c78b9738fe": {
       "attrs": {
        "height": 0.8,
        "width": 0.8,
        "x": 0.1,
        "y": 0.1
       },
       "content": {
        "cell": "790398c0-cd62-420b-b279-a6085a7c2c8a",
        "part": "whole"
       },
       "id": "7ada09c0-0ecb-4510-952b-86c78b9738fe"
      }
     }
    },
    "2c0cfbd0-1660-4f76-b12e-a892c8cf68f1": {
     "id": "2c0cfbd0-1660-4f76-b12e-a892c8cf68f1",
     "prev": "53ee0115-44ec-4c19-9bcd-1630be91f631",
     "regions": {
      "6205fa11-6582-4930-a09e-6b918cdd82aa": {
       "attrs": {
        "height": 0.8,
        "width": 0.8,
        "x": 0.1,
        "y": 0.1
       },
       "content": {
        "cell": "2b4a0284-2c11-40b4-87bc-397a04aee9f7",
        "part": "whole"
       },
       "id": "6205fa11-6582-4930-a09e-6b918cdd82aa"
      }
     }
    },
    "3ad4d361-41b0-4af6-9636-0db382095538": {
     "id": "3ad4d361-41b0-4af6-9636-0db382095538",
     "prev": "521bfab5-577e-4289-85d0-97e59f12dfac",
     "regions": {
      "44d6fe32-a723-4166-a99b-e54fd7003585": {
       "attrs": {
        "height": 0.8,
        "width": 0.8,
        "x": 0.1,
        "y": 0.1
       },
       "content": {
        "cell": "021d56d7-cffd-420f-b592-653c62a2e85b",
        "part": "whole"
       },
       "id": "44d6fe32-a723-4166-a99b-e54fd7003585"
      }
     }
    },
    "3be7ca4a-28cf-45b7-bb55-e4eafb7413e4": {
     "id": "3be7ca4a-28cf-45b7-bb55-e4eafb7413e4",
     "prev": "d1ad9411-5a15-4191-8782-f6d4440060bf",
     "regions": {
      "495eacc0-b7d4-42f2-b765-558dc5825a4c": {
       "attrs": {
        "height": 0.8,
        "width": 0.8,
        "x": 0.1,
        "y": 0.1
       },
       "content": {
        "cell": "8b8a64ae-caeb-4f6b-b1ef-3aac6dcbe9ff",
        "part": "whole"
       },
       "id": "495eacc0-b7d4-42f2-b765-558dc5825a4c"
      }
     }
    },
    "405c70f7-5858-41d5-8e43-dc87d9eee131": {
     "id": "405c70f7-5858-41d5-8e43-dc87d9eee131",
     "prev": "5f5cb381-f0b5-4486-91e7-def3a76d08b2",
     "regions": {
      "da6c1934-c855-4fcb-9d59-42c3fbd376ba": {
       "attrs": {
        "height": 0.8,
        "width": 0.8,
        "x": 0.1,
        "y": 0.1
       },
       "content": {
        "cell": "83b24b76-a41d-4b07-98ee-f2518923a49a",
        "part": "whole"
       },
       "id": "da6c1934-c855-4fcb-9d59-42c3fbd376ba"
      }
     }
    },
    "48e1fb6a-1a63-4cf9-8d4f-bbe2e9fc3825": {
     "id": "48e1fb6a-1a63-4cf9-8d4f-bbe2e9fc3825",
     "prev": "2975c44e-39b1-482e-b710-56926b57e930",
     "regions": {
      "776ee04a-60a2-4b06-9792-dd2aa1d78509": {
       "attrs": {
        "height": 0.8,
        "width": 0.8,
        "x": 0.1,
        "y": 0.1
       },
       "content": {
        "cell": "a1a8522f-6500-4d63-9b36-b342e665adf7",
        "part": "whole"
       },
       "id": "776ee04a-60a2-4b06-9792-dd2aa1d78509"
      }
     }
    },
    "504d977c-6fbc-4792-8d18-913bae597472": {
     "id": "504d977c-6fbc-4792-8d18-913bae597472",
     "prev": "405c70f7-5858-41d5-8e43-dc87d9eee131",
     "regions": {
      "7ab151b2-5695-40b5-8180-fecce3cfeaf3": {
       "attrs": {
        "height": 0.8,
        "width": 0.8,
        "x": 0.1,
        "y": 0.1
       },
       "content": {
        "cell": "bed97432-8b2f-4897-b3c4-6248a74a0084",
        "part": "whole"
       },
       "id": "7ab151b2-5695-40b5-8180-fecce3cfeaf3"
      }
     }
    },
    "50564714-47d8-4e7a-97c7-85bb5f82f0e2": {
     "id": "50564714-47d8-4e7a-97c7-85bb5f82f0e2",
     "prev": "1004bbe9-cab8-489b-b603-d3a495acb0e2",
     "regions": {
      "d1a21110-2bd8-481a-b125-70845ea1c1c4": {
       "attrs": {
        "height": 0.8,
        "width": 0.8,
        "x": 0.1,
        "y": 0.1
       },
       "content": {
        "cell": "9074300e-5c8b-4f92-b8d6-71f0e6148882",
        "part": "whole"
       },
       "id": "d1a21110-2bd8-481a-b125-70845ea1c1c4"
      }
     }
    },
    "521bfab5-577e-4289-85d0-97e59f12dfac": {
     "id": "521bfab5-577e-4289-85d0-97e59f12dfac",
     "prev": "97a7822f-4a04-49cb-bd82-fcea24e8e61b",
     "regions": {
      "613c9937-3654-435e-8683-ccaa7e105595": {
       "attrs": {
        "height": 0.8,
        "width": 0.8,
        "x": 0.1,
        "y": 0.1
       },
       "content": {
        "cell": "f5fbbb43-aa33-4a61-b669-37a890079fcd",
        "part": "whole"
       },
       "id": "613c9937-3654-435e-8683-ccaa7e105595"
      }
     }
    },
    "53ee0115-44ec-4c19-9bcd-1630be91f631": {
     "id": "53ee0115-44ec-4c19-9bcd-1630be91f631",
     "prev": "138d48b9-1cc2-490d-a1a2-f2b94a3573f7",
     "regions": {
      "1338c5f1-e009-4c1d-b469-f1b88e2867e2": {
       "attrs": {
        "height": 0.8,
        "width": 0.8,
        "x": 0.1,
        "y": 0.1
       },
       "content": {
        "cell": "8afb94f8-5d1c-4ea8-a40b-4640cca6274b",
        "part": "whole"
       },
       "id": "1338c5f1-e009-4c1d-b469-f1b88e2867e2"
      }
     }
    },
    "5cf997b8-85cb-4c6c-9df6-ae7968443f07": {
     "id": "5cf997b8-85cb-4c6c-9df6-ae7968443f07",
     "prev": "3be7ca4a-28cf-45b7-bb55-e4eafb7413e4",
     "regions": {
      "0ec2aacb-637f-4e83-8544-0202032a2cce": {
       "attrs": {
        "height": 0.8,
        "width": 0.8,
        "x": 0.1,
        "y": 0.1
       },
       "content": {
        "cell": "837be21c-cdf0-4768-94d3-fced4e38abe2",
        "part": "whole"
       },
       "id": "0ec2aacb-637f-4e83-8544-0202032a2cce"
      }
     }
    },
    "5f5cb381-f0b5-4486-91e7-def3a76d08b2": {
     "id": "5f5cb381-f0b5-4486-91e7-def3a76d08b2",
     "prev": "756cf482-99c7-4683-9229-d0c69daf13bf",
     "regions": {
      "33ab70bc-00a5-4bd2-a813-b0aa67f962a2": {
       "attrs": {
        "height": 0.8,
        "width": 0.8,
        "x": 0.1,
        "y": 0.1
       },
       "content": {
        "cell": "db1b56c4-be4c-4029-818b-dedf89609106",
        "part": "whole"
       },
       "id": "33ab70bc-00a5-4bd2-a813-b0aa67f962a2"
      }
     }
    },
    "63148dd6-625b-4e77-aa0e-9ee118e7cc1d": {
     "id": "63148dd6-625b-4e77-aa0e-9ee118e7cc1d",
     "prev": "7ef39f34-f4f1-403d-b847-d50c6e5ceb62",
     "regions": {
      "e3cf3328-9a9b-4f77-816f-0f19e64905cf": {
       "attrs": {
        "height": 0.8,
        "width": 0.8,
        "x": 0.1,
        "y": 0.1
       },
       "content": {
        "cell": "29c2ff3d-7bde-4533-96e5-51825382708b",
        "part": "whole"
       },
       "id": "e3cf3328-9a9b-4f77-816f-0f19e64905cf"
      }
     }
    },
    "69626f5c-e84e-42c4-a6d7-9112c6725454": {
     "id": "69626f5c-e84e-42c4-a6d7-9112c6725454",
     "prev": null,
     "regions": {
      "e96bb4ec-2cc6-4290-b6bd-5583a574af16": {
       "attrs": {
        "height": 0.8,
        "width": 0.8,
        "x": 0.1,
        "y": 0.1
       },
       "content": {
        "cell": "49538487-3502-4153-a997-f3b1f1b26334",
        "part": "whole"
       },
       "id": "e96bb4ec-2cc6-4290-b6bd-5583a574af16"
      }
     }
    },
    "756cf482-99c7-4683-9229-d0c69daf13bf": {
     "id": "756cf482-99c7-4683-9229-d0c69daf13bf",
     "prev": "2c0cfbd0-1660-4f76-b12e-a892c8cf68f1",
     "regions": {
      "9dabe5d0-a44a-4e12-8cae-f6874c133471": {
       "attrs": {
        "height": 0.8,
        "width": 0.8,
        "x": 0.1,
        "y": 0.1
       },
       "content": {
        "cell": "3012f0d5-b137-4e58-9196-74fd557ebabc",
        "part": "whole"
       },
       "id": "9dabe5d0-a44a-4e12-8cae-f6874c133471"
      }
     }
    },
    "75c79fa2-8a58-4492-95d7-dd6954bc40b2": {
     "id": "75c79fa2-8a58-4492-95d7-dd6954bc40b2",
     "prev": "48e1fb6a-1a63-4cf9-8d4f-bbe2e9fc3825",
     "regions": {
      "d5a38177-aed7-4a0d-8d4d-027e0c38b651": {
       "attrs": {
        "height": 0.8,
        "width": 0.8,
        "x": 0.1,
        "y": 0.1
       },
       "content": {
        "cell": "8d5b23b6-0c1f-4c62-a95d-d1772c699524",
        "part": "whole"
       },
       "id": "d5a38177-aed7-4a0d-8d4d-027e0c38b651"
      }
     }
    },
    "7d75a786-adc3-415a-a453-c5b5e237d8ea": {
     "id": "7d75a786-adc3-415a-a453-c5b5e237d8ea",
     "prev": "10a6a4e3-9e4b-4ab0-85c0-299f43a252fb",
     "regions": {
      "42066462-8608-4104-b0d3-b1f4e5d77468": {
       "attrs": {
        "height": 0.8,
        "width": 0.8,
        "x": 0.1,
        "y": 0.1
       },
       "content": {
        "cell": "1542954c-3b0d-4a9e-b51a-0797fb9ad948",
        "part": "whole"
       },
       "id": "42066462-8608-4104-b0d3-b1f4e5d77468"
      }
     }
    },
    "7ef39f34-f4f1-403d-b847-d50c6e5ceb62": {
     "id": "7ef39f34-f4f1-403d-b847-d50c6e5ceb62",
     "prev": "c1837991-4448-4899-8c54-330fdef3b7fc",
     "regions": {
      "1bd4c93d-c3b9-480a-a71a-2176250471cb": {
       "attrs": {
        "height": 0.8,
        "width": 0.8,
        "x": 0.1,
        "y": 0.1
       },
       "content": {
        "cell": "9dedda3e-2534-4f5c-beb2-bb852f6ccc69",
        "part": "whole"
       },
       "id": "1bd4c93d-c3b9-480a-a71a-2176250471cb"
      }
     }
    },
    "88fcbb3f-a018-41b2-ad18-9b85f0f7b032": {
     "id": "88fcbb3f-a018-41b2-ad18-9b85f0f7b032",
     "prev": "186f9f71-992d-458a-8943-6e7f52461ab5",
     "regions": {
      "09eb13c0-3730-4e73-85f5-5b9f7481e4b7": {
       "attrs": {
        "height": 0.8,
        "width": 0.8,
        "x": 0.1,
        "y": 0.1
       },
       "content": {
        "cell": "e8a83ab0-c3f3-47e6-b303-b1ea55600740",
        "part": "whole"
       },
       "id": "09eb13c0-3730-4e73-85f5-5b9f7481e4b7"
      }
     }
    },
    "93ee3acd-20c0-4bd8-aa7a-7e01d8a1ee49": {
     "id": "93ee3acd-20c0-4bd8-aa7a-7e01d8a1ee49",
     "prev": "63148dd6-625b-4e77-aa0e-9ee118e7cc1d",
     "regions": {
      "8925be8d-035f-4fb4-9b03-dfb32f241eb8": {
       "attrs": {
        "height": 0.8,
        "width": 0.8,
        "x": 0.1,
        "y": 0.1
       },
       "content": {
        "cell": "53c6a63b-76a6-46d9-a659-2ed8c9efa0c4",
        "part": "whole"
       },
       "id": "8925be8d-035f-4fb4-9b03-dfb32f241eb8"
      }
     }
    },
    "97a7822f-4a04-49cb-bd82-fcea24e8e61b": {
     "id": "97a7822f-4a04-49cb-bd82-fcea24e8e61b",
     "prev": "5cf997b8-85cb-4c6c-9df6-ae7968443f07",
     "regions": {
      "eaa91aad-72bc-4bda-8911-02abd9572946": {
       "attrs": {
        "height": 0.8,
        "width": 0.8,
        "x": 0.1,
        "y": 0.1
       },
       "content": {
        "cell": "b0b1e4ac-f411-4080-a93e-250e6722df16",
        "part": "whole"
       },
       "id": "eaa91aad-72bc-4bda-8911-02abd9572946"
      }
     }
    },
    "add4e103-afd4-4516-b736-cf54f67ab5ac": {
     "id": "add4e103-afd4-4516-b736-cf54f67ab5ac",
     "prev": "69626f5c-e84e-42c4-a6d7-9112c6725454",
     "regions": {
      "1d911ebe-6700-4366-bc91-21d332c9f8a0": {
       "attrs": {
        "height": 0.8,
        "width": 0.8,
        "x": 0.1,
        "y": 0.1
       },
       "content": {
        "cell": "767d549c-69f8-4c94-8e9e-a5229de9cf8f",
        "part": "whole"
       },
       "id": "1d911ebe-6700-4366-bc91-21d332c9f8a0"
      }
     }
    },
    "bb527fa2-f9cc-463b-b68b-1b9d27974e71": {
     "id": "bb527fa2-f9cc-463b-b68b-1b9d27974e71",
     "prev": "7d75a786-adc3-415a-a453-c5b5e237d8ea",
     "regions": {
      "00dc6f0a-4b5e-405a-bcba-09c321c877a7": {
       "attrs": {
        "height": 0.8,
        "width": 0.8,
        "x": 0.1,
        "y": 0.1
       },
       "content": {
        "cell": "4b72058c-b3c5-4c30-97f1-b5912e98a637",
        "part": "whole"
       },
       "id": "00dc6f0a-4b5e-405a-bcba-09c321c877a7"
      }
     }
    },
    "c1837991-4448-4899-8c54-330fdef3b7fc": {
     "id": "c1837991-4448-4899-8c54-330fdef3b7fc",
     "prev": "f06a404d-a6cc-43cc-8ca0-8ccfd2ff5f1a",
     "regions": {
      "bcf42010-3542-43a0-9366-2d5bb4e67987": {
       "attrs": {
        "height": 0.8,
        "width": 0.8,
        "x": 0.1,
        "y": 0.1
       },
       "content": {
        "cell": "d0065840-742e-4c75-be5f-eb17cc2a0c39",
        "part": "whole"
       },
       "id": "bcf42010-3542-43a0-9366-2d5bb4e67987"
      }
     }
    },
    "c56759a9-c49d-4579-bf2c-309203bf7b10": {
     "id": "c56759a9-c49d-4579-bf2c-309203bf7b10",
     "prev": "cd14daf3-e174-4a85-81b9-da1291786b1e",
     "regions": {
      "4479f9fe-626e-41b4-a7cb-f192e15f61c3": {
       "attrs": {
        "height": 0.8,
        "width": 0.8,
        "x": 0.1,
        "y": 0.1
       },
       "content": {
        "cell": "653d700a-4c2f-4539-a13b-c7d30d297ffc",
        "part": "whole"
       },
       "id": "4479f9fe-626e-41b4-a7cb-f192e15f61c3"
      }
     }
    },
    "cd14daf3-e174-4a85-81b9-da1291786b1e": {
     "id": "cd14daf3-e174-4a85-81b9-da1291786b1e",
     "prev": "75c79fa2-8a58-4492-95d7-dd6954bc40b2",
     "regions": {
      "87edd0a9-fe95-45cb-b152-ad93adc5171f": {
       "attrs": {
        "height": 0.8,
        "width": 0.8,
        "x": 0.1,
        "y": 0.1
       },
       "content": {
        "cell": "cf42fbb3-4450-4320-b4ec-cf12ff882138",
        "part": "whole"
       },
       "id": "87edd0a9-fe95-45cb-b152-ad93adc5171f"
      }
     }
    },
    "d1ad9411-5a15-4191-8782-f6d4440060bf": {
     "id": "d1ad9411-5a15-4191-8782-f6d4440060bf",
     "prev": "f5794430-cd1b-47e9-b459-717127a1799b",
     "regions": {
      "006f83f1-3b16-4841-b619-a6f7c9b10662": {
       "attrs": {
        "height": 0.8,
        "width": 0.8,
        "x": 0.1,
        "y": 0.1
       },
       "content": {
        "cell": "c7940def-8980-4383-b844-c677080cc1ac",
        "part": "whole"
       },
       "id": "006f83f1-3b16-4841-b619-a6f7c9b10662"
      }
     }
    },
    "f06a404d-a6cc-43cc-8ca0-8ccfd2ff5f1a": {
     "id": "f06a404d-a6cc-43cc-8ca0-8ccfd2ff5f1a",
     "prev": "50564714-47d8-4e7a-97c7-85bb5f82f0e2",
     "regions": {
      "9c7a5de4-8e67-4e2d-b130-05e06960e814": {
       "attrs": {
        "height": 0.8,
        "width": 0.8,
        "x": 0.1,
        "y": 0.1
       },
       "content": {
        "cell": "da295db5-0226-4301-ad25-26d678357845",
        "part": "whole"
       },
       "id": "9c7a5de4-8e67-4e2d-b130-05e06960e814"
      }
     }
    },
    "f5794430-cd1b-47e9-b459-717127a1799b": {
     "id": "f5794430-cd1b-47e9-b459-717127a1799b",
     "prev": "bb527fa2-f9cc-463b-b68b-1b9d27974e71",
     "regions": {
      "07323084-c6bd-4095-a8f3-4605cc04545f": {
       "attrs": {
        "height": 0.8,
        "width": 0.8,
        "x": 0.1,
        "y": 0.1
       },
       "content": {
        "cell": "4c1ae737-8b70-47cd-b040-d374af46b9a9",
        "part": "whole"
       },
       "id": "07323084-c6bd-4095-a8f3-4605cc04545f"
      }
     }
    }
   },
   "themes": {
    "default": "70cd699b-d195-43ef-8ab8-d2905453470b",
    "theme": {}
   }
  }
 },
 "nbformat": 4,
 "nbformat_minor": 0
}
